{
 "cells": [
  {
   "cell_type": "code",
   "execution_count": 15,
   "metadata": {},
   "outputs": [],
   "source": [
    "import torch\n",
    "import torch.nn as nn\n",
    "import torch.optim as optim\n",
    "from torch.utils.data import Dataset, DataLoader\n",
    "import pandas as pd\n",
    "from sklearn.preprocessing import StandardScaler\n",
    "from sklearn.model_selection import train_test_split\n",
    "import matplotlib.pyplot as plt"
   ]
  },
  {
   "cell_type": "code",
   "execution_count": 16,
   "metadata": {},
   "outputs": [],
   "source": [
    "# Загрузка данных\n",
    "train = pd.read_csv(\"Data/train.csv\")\n",
    "formula_train = pd.read_csv(\"Data/formula_train.csv\")\n",
    "test = pd.read_csv(\"Data/test.csv\")\n",
    "formula_test = pd.read_csv(\"Data/formula_test.csv\")"
   ]
  },
  {
   "cell_type": "code",
   "execution_count": 17,
   "metadata": {},
   "outputs": [],
   "source": [
    "# Предобработка данных\n",
    "formula_train = formula_train.drop(columns=['critical_temp'])\n",
    "train_full = pd.concat([train, formula_train], axis=1).drop(columns=['material'])\n",
    "X = train_full.drop(columns=['critical_temp'])\n",
    "y = train_full['critical_temp']"
   ]
  },
  {
   "cell_type": "code",
   "execution_count": 18,
   "metadata": {},
   "outputs": [],
   "source": [
    "test_full = pd.concat([test, formula_test], axis=1).drop(columns=['material'])"
   ]
  },
  {
   "cell_type": "code",
   "execution_count": 19,
   "metadata": {},
   "outputs": [],
   "source": [
    "# Нормализация данных\n",
    "scaler = StandardScaler()\n",
    "X = scaler.fit_transform(X)\n",
    "X_test = scaler.transform(test_full)"
   ]
  },
  {
   "cell_type": "code",
   "execution_count": 20,
   "metadata": {},
   "outputs": [],
   "source": [
    "# Разделение на обучающую и валидационную выборки\n",
    "X_train, X_val, y_train, y_val = train_test_split(X, y, test_size=0.2, random_state=42)"
   ]
  },
  {
   "cell_type": "code",
   "execution_count": 21,
   "metadata": {},
   "outputs": [],
   "source": [
    "# Создание Dataset и DataLoader\n",
    "class SuperconductorDataset(Dataset):\n",
    "    def __init__(self, X, y):\n",
    "        self.X = torch.tensor(X, dtype=torch.float32)\n",
    "        self.y = torch.tensor(y.values, dtype=torch.float32)\n",
    "\n",
    "    def __len__(self):\n",
    "        return len(self.y)\n",
    "\n",
    "    def __getitem__(self, idx):\n",
    "        return self.X[idx], self.y[idx]"
   ]
  },
  {
   "cell_type": "code",
   "execution_count": 22,
   "metadata": {},
   "outputs": [],
   "source": [
    "train_dataset = SuperconductorDataset(X_train, y_train)\n",
    "val_dataset = SuperconductorDataset(X_val, y_val)\n",
    "train_loader = DataLoader(train_dataset, batch_size=32, shuffle=True)\n",
    "val_loader = DataLoader(val_dataset, batch_size=32)"
   ]
  },
  {
   "cell_type": "code",
   "execution_count": 23,
   "metadata": {},
   "outputs": [],
   "source": [
    "# Архитектура нейронной сети\n",
    "class RegressionNet(nn.Module):\n",
    "    def __init__(self, input_size):\n",
    "        super(RegressionNet, self).__init__()\n",
    "        self.fc1 = nn.Linear(input_size, 128)\n",
    "        self.fc2 = nn.Linear(128, 64)\n",
    "        self.fc3 = nn.Linear(64, 32)\n",
    "        self.fc4 = nn.Linear(32, 1)\n",
    "        self.relu = nn.ReLU()\n",
    "\n",
    "    def forward(self, x):\n",
    "        x = self.relu(self.fc1(x))\n",
    "        x = self.relu(self.fc2(x))\n",
    "        x = self.relu(self.fc3(x))\n",
    "        x = self.fc4(x)  # Без активации на последнем слое для регрессии\n",
    "        return x"
   ]
  },
  {
   "cell_type": "code",
   "execution_count": 24,
   "metadata": {},
   "outputs": [],
   "source": [
    "net = RegressionNet(X_train.shape[1])\n",
    "\n",
    "# Определение функции потерь и оптимизатора\n",
    "criterion = nn.MSELoss()\n",
    "optimizer = optim.Adam(net.parameters(), lr=0.001)\n",
    "\n",
    "# Обучение модели\n",
    "epochs = 100\n",
    "train_losses, val_losses = [], []"
   ]
  },
  {
   "cell_type": "code",
   "execution_count": 25,
   "metadata": {},
   "outputs": [
    {
     "name": "stdout",
     "output_type": "stream",
     "text": [
      "Epoch 1/100 - Training loss: 464.8994, Validation loss: 269.5169\n",
      "Epoch 2/100 - Training loss: 236.8037, Validation loss: 225.2395\n",
      "Epoch 3/100 - Training loss: 213.4297, Validation loss: 209.0927\n",
      "Epoch 4/100 - Training loss: 203.9697, Validation loss: 208.4379\n",
      "Epoch 5/100 - Training loss: 191.7869, Validation loss: 196.9702\n",
      "Epoch 6/100 - Training loss: 185.6570, Validation loss: 226.9601\n",
      "Epoch 7/100 - Training loss: 178.2264, Validation loss: 224.4730\n",
      "Epoch 8/100 - Training loss: 173.6980, Validation loss: 183.0135\n",
      "Epoch 9/100 - Training loss: 169.3491, Validation loss: 176.5976\n",
      "Epoch 10/100 - Training loss: 163.0232, Validation loss: 178.4627\n",
      "Epoch 11/100 - Training loss: 162.8715, Validation loss: 170.3828\n",
      "Epoch 12/100 - Training loss: 157.0453, Validation loss: 174.9573\n",
      "Epoch 13/100 - Training loss: 150.9178, Validation loss: 169.9028\n",
      "Epoch 14/100 - Training loss: 148.3370, Validation loss: 180.8507\n",
      "Epoch 15/100 - Training loss: 146.2978, Validation loss: 158.0874\n",
      "Epoch 16/100 - Training loss: 140.9189, Validation loss: 167.5533\n",
      "Epoch 17/100 - Training loss: 139.6376, Validation loss: 158.4222\n",
      "Epoch 18/100 - Training loss: 137.5750, Validation loss: 183.1659\n",
      "Epoch 19/100 - Training loss: 135.0067, Validation loss: 153.9640\n",
      "Epoch 20/100 - Training loss: 133.0547, Validation loss: 163.8749\n",
      "Epoch 21/100 - Training loss: 134.0473, Validation loss: 154.8969\n",
      "Epoch 22/100 - Training loss: 131.2639, Validation loss: 155.3201\n",
      "Epoch 23/100 - Training loss: 129.5944, Validation loss: 161.5122\n",
      "Epoch 24/100 - Training loss: 127.9979, Validation loss: 152.0285\n",
      "Epoch 25/100 - Training loss: 128.8293, Validation loss: 155.2397\n",
      "Epoch 26/100 - Training loss: 125.0852, Validation loss: 152.9494\n",
      "Epoch 27/100 - Training loss: 123.8688, Validation loss: 151.4062\n",
      "Epoch 28/100 - Training loss: 122.7398, Validation loss: 171.9269\n",
      "Epoch 29/100 - Training loss: 122.3225, Validation loss: 150.3177\n",
      "Epoch 30/100 - Training loss: 121.1381, Validation loss: 145.1463\n",
      "Epoch 31/100 - Training loss: 121.2390, Validation loss: 144.5238\n",
      "Epoch 32/100 - Training loss: 117.1373, Validation loss: 156.3777\n",
      "Epoch 33/100 - Training loss: 118.0337, Validation loss: 147.8242\n",
      "Epoch 34/100 - Training loss: 118.8685, Validation loss: 144.5072\n",
      "Epoch 35/100 - Training loss: 115.7802, Validation loss: 148.9477\n",
      "Epoch 36/100 - Training loss: 114.6036, Validation loss: 139.0831\n",
      "Epoch 37/100 - Training loss: 112.3672, Validation loss: 153.5504\n",
      "Epoch 38/100 - Training loss: 113.4566, Validation loss: 142.2356\n",
      "Epoch 39/100 - Training loss: 112.7188, Validation loss: 141.1277\n",
      "Epoch 40/100 - Training loss: 112.0337, Validation loss: 143.5403\n",
      "Epoch 41/100 - Training loss: 108.6771, Validation loss: 142.2630\n",
      "Epoch 42/100 - Training loss: 109.7093, Validation loss: 141.9330\n",
      "Epoch 43/100 - Training loss: 109.4248, Validation loss: 141.8741\n",
      "Epoch 44/100 - Training loss: 107.4636, Validation loss: 145.7919\n",
      "Epoch 45/100 - Training loss: 108.7408, Validation loss: 142.4265\n",
      "Epoch 46/100 - Training loss: 105.4791, Validation loss: 133.9687\n",
      "Epoch 47/100 - Training loss: 105.7751, Validation loss: 132.1806\n",
      "Epoch 48/100 - Training loss: 105.3290, Validation loss: 133.5465\n",
      "Epoch 49/100 - Training loss: 105.1310, Validation loss: 160.8068\n",
      "Epoch 50/100 - Training loss: 103.9097, Validation loss: 131.9052\n",
      "Epoch 51/100 - Training loss: 103.8958, Validation loss: 145.1536\n",
      "Epoch 52/100 - Training loss: 103.0323, Validation loss: 134.3722\n",
      "Epoch 53/100 - Training loss: 100.6127, Validation loss: 141.4360\n",
      "Epoch 54/100 - Training loss: 102.2560, Validation loss: 128.6211\n",
      "Epoch 55/100 - Training loss: 101.5821, Validation loss: 131.7405\n",
      "Epoch 56/100 - Training loss: 98.5548, Validation loss: 129.8895\n",
      "Epoch 57/100 - Training loss: 98.8922, Validation loss: 134.5468\n",
      "Epoch 58/100 - Training loss: 98.4714, Validation loss: 132.1257\n",
      "Epoch 59/100 - Training loss: 95.6015, Validation loss: 129.6969\n",
      "Epoch 60/100 - Training loss: 96.8706, Validation loss: 131.8064\n",
      "Epoch 61/100 - Training loss: 95.5993, Validation loss: 135.9382\n",
      "Epoch 62/100 - Training loss: 97.0066, Validation loss: 132.1155\n",
      "Epoch 63/100 - Training loss: 95.1263, Validation loss: 127.9251\n",
      "Epoch 64/100 - Training loss: 94.5986, Validation loss: 132.3251\n",
      "Epoch 65/100 - Training loss: 93.2462, Validation loss: 132.8996\n",
      "Epoch 66/100 - Training loss: 91.1586, Validation loss: 146.9064\n",
      "Epoch 67/100 - Training loss: 91.7776, Validation loss: 128.5112\n",
      "Epoch 68/100 - Training loss: 90.2640, Validation loss: 121.2102\n",
      "Epoch 69/100 - Training loss: 91.6590, Validation loss: 130.4128\n",
      "Epoch 70/100 - Training loss: 88.6506, Validation loss: 139.4740\n",
      "Epoch 71/100 - Training loss: 88.9016, Validation loss: 125.2095\n",
      "Epoch 72/100 - Training loss: 87.8956, Validation loss: 123.8846\n",
      "Epoch 73/100 - Training loss: 89.8582, Validation loss: 129.7416\n",
      "Epoch 74/100 - Training loss: 87.9141, Validation loss: 126.8743\n",
      "Epoch 75/100 - Training loss: 86.1186, Validation loss: 119.0130\n",
      "Epoch 76/100 - Training loss: 84.3873, Validation loss: 121.1579\n",
      "Epoch 77/100 - Training loss: 86.1014, Validation loss: 121.4378\n",
      "Epoch 78/100 - Training loss: 82.8324, Validation loss: 116.7228\n",
      "Epoch 79/100 - Training loss: 85.1006, Validation loss: 127.2999\n",
      "Epoch 80/100 - Training loss: 84.6515, Validation loss: 121.8479\n",
      "Epoch 81/100 - Training loss: 83.1733, Validation loss: 114.2060\n",
      "Epoch 82/100 - Training loss: 81.6449, Validation loss: 138.5168\n",
      "Epoch 83/100 - Training loss: 82.6144, Validation loss: 116.2354\n",
      "Epoch 84/100 - Training loss: 82.0124, Validation loss: 113.2180\n",
      "Epoch 85/100 - Training loss: 80.5493, Validation loss: 118.8983\n",
      "Epoch 86/100 - Training loss: 80.7937, Validation loss: 116.2495\n",
      "Epoch 87/100 - Training loss: 79.3599, Validation loss: 118.4659\n",
      "Epoch 88/100 - Training loss: 79.1951, Validation loss: 123.7596\n",
      "Epoch 89/100 - Training loss: 79.4915, Validation loss: 118.7181\n",
      "Epoch 90/100 - Training loss: 78.3142, Validation loss: 123.0795\n",
      "Epoch 91/100 - Training loss: 79.5344, Validation loss: 115.5024\n",
      "Epoch 92/100 - Training loss: 77.9397, Validation loss: 123.5508\n",
      "Epoch 93/100 - Training loss: 77.9060, Validation loss: 115.5818\n",
      "Epoch 94/100 - Training loss: 77.3187, Validation loss: 117.5415\n",
      "Epoch 95/100 - Training loss: 75.7324, Validation loss: 121.1412\n",
      "Epoch 96/100 - Training loss: 75.6836, Validation loss: 120.6399\n",
      "Epoch 97/100 - Training loss: 75.3168, Validation loss: 113.9573\n",
      "Epoch 98/100 - Training loss: 77.4828, Validation loss: 121.6857\n",
      "Epoch 99/100 - Training loss: 75.0909, Validation loss: 119.1251\n",
      "Epoch 100/100 - Training loss: 75.2614, Validation loss: 120.8175\n"
     ]
    }
   ],
   "source": [
    "for epoch in range(epochs):\n",
    "    net.train()\n",
    "    running_loss = 0.0\n",
    "    for inputs, targets in train_loader:\n",
    "        optimizer.zero_grad()\n",
    "        outputs = net(inputs).squeeze()\n",
    "        loss = criterion(outputs, targets)\n",
    "        loss.backward()\n",
    "        optimizer.step()\n",
    "        running_loss += loss.item()\n",
    "\n",
    "    # Оценка на валидационной выборке\n",
    "    net.eval()\n",
    "    val_loss = 0.0\n",
    "    with torch.no_grad():\n",
    "        for inputs, targets in val_loader:\n",
    "            outputs = net(inputs).squeeze()\n",
    "            loss = criterion(outputs, targets)\n",
    "            val_loss += loss.item()\n",
    "\n",
    "    train_losses.append(running_loss / len(train_loader))\n",
    "    val_losses.append(val_loss / len(val_loader))\n",
    "    print(f'Epoch {epoch+1}/{epochs} - Training loss: {train_losses[-1]:.4f}, Validation loss: {val_losses[-1]:.4f}')"
   ]
  },
  {
   "cell_type": "code",
   "execution_count": 26,
   "metadata": {},
   "outputs": [
    {
     "data": {
      "image/png": "[encoded data removed]",
      "text/plain": [
       "<Figure size 640x480 with 1 Axes>"
      ]
     },
     "metadata": {},
     "output_type": "display_data"
    }
   ],
   "source": [
    "# Визуализация функции потерь\n",
    "plt.plot(train_losses, label='Train Loss')\n",
    "plt.plot(val_losses, label='Validation Loss')\n",
    "plt.xlabel('Epochs')\n",
    "plt.ylabel('Loss (MSE)')\n",
    "plt.legend()\n",
    "plt.show()"
   ]
  },
  {
   "cell_type": "code",
   "execution_count": 27,
   "metadata": {},
   "outputs": [],
   "source": [
    "# Получение предсказаний для тестового набора\n",
    "test_tensor = torch.tensor(X_test, dtype=torch.float32)\n",
    "net.eval()\n",
    "with torch.no_grad():\n",
    "    y_pred_test = net(test_tensor).squeeze().numpy()"
   ]
  },
  {
   "cell_type": "code",
   "execution_count": 28,
   "metadata": {},
   "outputs": [],
   "source": [
    "submission = pd.DataFrame({'index': range(len(y_pred_test)), 'critical_temp': y_pred_test})\n",
    "submission.to_csv(\"result.csv\", index=False)"
   ]
  },
  {
   "cell_type": "code",
   "execution_count": null,
   "metadata": {},
   "outputs": [],
   "source": []
  }
 ],
 "metadata": {
  "kernelspec": {
   "display_name": "Python 3",
   "language": "python",
   "name": "python3"
  },
  "language_info": {
   "codemirror_mode": {
    "name": "ipython",
    "version": 3
   },
   "file_extension": ".py",
   "mimetype": "text/x-python",
   "name": "python",
   "nbconvert_exporter": "python",
   "pygments_lexer": "ipython3",
   "version": "3.10.11"
  }
 },
 "nbformat": 4,
 "nbformat_minor": 2
}
