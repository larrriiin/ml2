{
 "cells": [
  {
   "cell_type": "code",
   "execution_count": 11,
   "metadata": {
    "id": "3r42L9cbfpjk"
   },
   "outputs": [],
   "source": [
    "import torch\n",
    "import torch.nn as nn\n",
    "import torch.optim as optim\n",
    "from torch.utils.data import DataLoader, Dataset\n",
    "import torchvision as tv\n",
    "import pandas as pd\n",
    "from PIL import Image\n",
    "from matplotlib import pyplot as plt\n",
    "import os\n",
    "import numpy as np\n",
    "import typing\n",
    "from sklearn.model_selection import train_test_split\n",
    "import time\n",
    "from collections import defaultdict\n",
    "from torchvision.models import resnet18"
   ]
  },
  {
   "cell_type": "code",
   "execution_count": 12,
   "metadata": {
    "colab": {
     "base_uri": "https://localhost:8080/"
    },
    "id": "6EVMWkvSfy7U",
    "outputId": "23c92f98-e61c-40f0-ae80-c69736bd45bb"
   },
   "outputs": [
    {
     "name": "stdout",
     "output_type": "stream",
     "text": [
      "50\n",
      "4955\n",
      "250\n"
     ]
    }
   ],
   "source": [
    "# Директория с тренировочными данными\n",
    "train_data_dir = \"drive/MyDrive/butter/train_butterflies/train_split\"\n",
    "\n",
    "classes_dirs = [cls for cls in os.listdir(train_data_dir) if os.path.isdir(f\"{train_data_dir}/{cls}\")]\n",
    "\n",
    "all_train_paths = [\n",
    "    f\"{train_data_dir}/{cls}/{p}\"\n",
    "    for cls in classes_dirs\n",
    "    for p in os.listdir(f\"{train_data_dir}/{cls}\")\n",
    "    if os.path.isfile(f\"{train_data_dir}/{cls}/{p}\")\n",
    "]\n",
    "\n",
    "# Извлекаем метки классов из путей (название директории — это метка)\n",
    "classes_labels = [p.split(\"/\")[-2] for p in all_train_paths]\n",
    "\n",
    "print(len(classes_dirs)) # Кол-во классов\n",
    "print(len(all_train_paths)) # Кол-во изображений тренировочных\n",
    "\n",
    "test_data_dir = \"drive/MyDrive/butter/test_butterflies\"\n",
    "all_test_paths = [p for p in os.listdir(test_data_dir+\"/valid\")]\n",
    "\n",
    "print(len(all_test_paths)) # Кол-во изображений тестовых\n"
   ]
  },
  {
   "cell_type": "code",
   "execution_count": null,
   "metadata": {
    "id": "faGiE1cTk9fN"
   },
   "outputs": [],
   "source": [
    "train_paths, val_paths = train_test_split(all_train_paths, test_size=0.2, random_state=51, stratify=classes_labels)"
   ]
  },
  {
   "cell_type": "code",
   "execution_count": null,
   "metadata": {
    "id": "A2P0A-7MlEfQ"
   },
   "outputs": [],
   "source": [
    "img_size = 224\n",
    "\n",
    "train_transforms = tv.transforms.Compose([\n",
    "    tv.transforms.Resize(img_size),\n",
    "    tv.transforms.CenterCrop(img_size), # Обрезаем по цетру до 224х224\n",
    "    tv.transforms.ColorJitter(0.6, 0.8, 0.7), # Изменяем яркость, контраст и насыщенность\n",
    "    tv.transforms.RandomAffine(10), # Случайный поворот изображения на ±10 градусов\n",
    "    tv.transforms.ToTensor()\n",
    "])\n",
    "\n",
    "val_transforms = tv.transforms.Compose([\n",
    "    tv.transforms.Resize(img_size),\n",
    "    tv.transforms.CenterCrop(img_size),\n",
    "    tv.transforms.ToTensor()\n",
    "])\n",
    "\n",
    "# Создаем тренировочный набор данных\n",
    "train_dataset = tv.datasets.ImageFolder(\n",
    "    train_data_dir,\n",
    "    transform=train_transforms,\n",
    "    is_valid_file=lambda x: x in train_paths\n",
    ")\n",
    "\n",
    "# Создаем валидационный набор данных\n",
    "val_dataset = tv.datasets.ImageFolder(\n",
    "    train_data_dir,\n",
    "    transform=val_transforms,\n",
    "    is_valid_file=lambda x: x in val_paths\n",
    ")"
   ]
  },
  {
   "cell_type": "code",
   "execution_count": null,
   "metadata": {
    "colab": {
     "base_uri": "https://localhost:8080/",
     "height": 35
    },
    "id": "_vrKWD1omrsH",
    "outputId": "88c56c13-1053-4a6b-da42-bd55935e7f8f"
   },
   "outputs": [
    {
     "data": {
      "application/vnd.google.colaboratory.intrinsic+json": {
       "type": "string"
      },
      "text/plain": [
       "'cuda'"
      ]
     },
     "execution_count": 23,
     "metadata": {},
     "output_type": "execute_result"
    }
   ],
   "source": [
    "device = \"cuda\" if torch.cuda.is_available() else \"cpu\"\n",
    "device"
   ]
  },
  {
   "cell_type": "code",
   "execution_count": null,
   "metadata": {
    "id": "04eE_5ec0Obc"
   },
   "outputs": [],
   "source": [
    "def plot_learning_curves(history):\n",
    "    fig = plt.figure(figsize=(20, 7))\n",
    "\n",
    "    plt.subplot(1,2,1)\n",
    "    plt.title('Loss', fontsize=15)\n",
    "    plt.plot(history['loss']['train'], label='train')\n",
    "    plt.plot(history['loss']['val'], label='val')\n",
    "    plt.ylabel('loss', fontsize=15)\n",
    "    plt.xlabel('epoch', fontsize=15)\n",
    "    plt.legend()\n",
    "\n",
    "    plt.subplot(1,2,2)\n",
    "    plt.title('Accuracy', fontsize=15)\n",
    "    plt.plot(history['acc']['train'], label='train')\n",
    "    plt.plot(history['acc']['val'], label='val')\n",
    "    plt.ylabel('loss', fontsize=15)\n",
    "    plt.xlabel('epoch', fontsize=15)\n",
    "    plt.legend()\n",
    "    plt.show()"
   ]
  },
  {
   "cell_type": "code",
   "execution_count": null,
   "metadata": {
    "id": "DiHgTIJU0Ped"
   },
   "outputs": [],
   "source": [
    "def train(model, criterion, optimizer, train_batch_gen, val_batch_gen,num_epochs=10):\n",
    "    history = defaultdict(lambda: defaultdict(list)) # Словарь для истории\n",
    "\n",
    "    for epoch in range(num_epochs):\n",
    "        train_loss = 0\n",
    "        train_acc = 0\n",
    "        val_loss = 0\n",
    "        val_acc = 0\n",
    "\n",
    "        start_time = time.time()\n",
    "        model.train()\n",
    "\n",
    "        for X_batch, y_batch in train_batch_gen:\n",
    "            X_batch, y_batch = X_batch.to(device), y_batch.to(device)  # Перенос на устройство\n",
    "            logits = model(X_batch) # Предсказания модели для текущего батча\n",
    "\n",
    "            loss = criterion(logits, y_batch.long().to(device))\n",
    "\n",
    "            loss.backward() # Обратное распространение\n",
    "            optimizer.step() # Обновление весов\n",
    "            optimizer.zero_grad() # Обнуление градиентов\n",
    "\n",
    "            train_loss += np.sum(loss.detach().cpu().numpy())\n",
    "            y_pred = logits.max(1)[1].detach().cpu().numpy()\n",
    "            train_acc += np.mean(y_batch.cpu().numpy() == y_pred)\n",
    "\n",
    "        train_loss /= len(train_batch_gen)\n",
    "        train_acc /= len(train_batch_gen)\n",
    "        history['loss']['train'].append(train_loss)\n",
    "        history['acc']['train'].append(train_acc)\n",
    "\n",
    "        model.eval() # Режим валидации\n",
    "\n",
    "        for X_batch, y_batch in val_batch_gen:\n",
    "            X_batch = X_batch.to(device)\n",
    "            y_batch = y_batch.to(device)\n",
    "\n",
    "            logits = model(X_batch)\n",
    "            loss = criterion(logits, y_batch.long().to(device))\n",
    "            val_loss += np.sum(loss.detach().cpu().numpy())\n",
    "            y_pred = logits.max(1)[1].detach().cpu().numpy()\n",
    "            val_acc += np.mean(y_batch.cpu().numpy() == y_pred)\n",
    "\n",
    "        val_loss /= len(val_batch_gen)\n",
    "        val_acc /= len(val_batch_gen)\n",
    "        history['loss']['val'].append(val_loss)\n",
    "        history['acc']['val'].append(val_acc)\n",
    "\n",
    "        print(\"Epoch {} of {} took {:.3f}s\".format(\n",
    "            epoch + 1, num_epochs, time.time() - start_time))\n",
    "        print(\"  training loss (in-iteration): \\t{:.6f}\".format(train_loss))\n",
    "        print(\"  validation loss (in-iteration): \\t{:.6f}\".format(val_loss))\n",
    "        print(\"  training accuracy: \\t\\t\\t{:.2f} %\".format(train_acc * 100))\n",
    "        print(\"  validation accuracy: \\t\\t\\t{:.2f} %\".format(val_acc * 100))\n",
    "\n",
    "    return model, history"
   ]
  },
  {
   "cell_type": "code",
   "execution_count": null,
   "metadata": {
    "id": "iQ2GxDgQ0RW-"
   },
   "outputs": [],
   "source": [
    "batch_size = 32\n",
    "\n",
    "# Генераторы батчей\n",
    "train_batch_gen = DataLoader(train_dataset, batch_size=batch_size, shuffle=True)\n",
    "val_batch_gen = DataLoader(val_dataset, batch_size=batch_size, shuffle=False)"
   ]
  },
  {
   "cell_type": "code",
   "execution_count": null,
   "metadata": {
    "id": "mBM3_No00iAX"
   },
   "outputs": [],
   "source": [
    "# Определяем модель для тонкой настройки\n",
    "fine_tuning_model = nn.Sequential() # контейнер, позволяющий последовательно добавлять слои в модель\n",
    "\n",
    "# Количество классов в выходном слое\n",
    "classes_count = len(train_dataset.classes)\n",
    "\n",
    "# Добавляем предобученную модель ResNet18 с заменой верхних слоев\n",
    "fine_tuning_model.add_module('resnet', resnet18(pretrained=True)) # Базовая модель ResNet18, 1 слой\n",
    "fine_tuning_model.add_module('relu_1', nn.ReLU()) # Дополнительный ReLU слой, 2 слой\n",
    "fine_tuning_model.add_module('fc_1', nn.Linear(1000, classes_count)) # Финальный линейный слой для классификации на classes_count классов, 3 слой\n",
    "fine_tuning_model = fine_tuning_model.to(device)"
   ]
  },
  {
   "cell_type": "code",
   "execution_count": null,
   "metadata": {
    "colab": {
     "base_uri": "https://localhost:8080/",
     "height": 1000
    },
    "id": "is4V4MDV0i-_",
    "outputId": "67c7afa8-0459-4504-f532-2133671b8b23"
   },
   "outputs": [
    {
     "name": "stdout",
     "output_type": "stream",
     "text": [
      "Epoch 1 of 6 took 46.891s\n",
      "  training loss (in-iteration): \t1.905385\n",
      "  validation loss (in-iteration): \t0.653544\n",
      "  training accuracy: \t\t\t54.18 %\n",
      "  validation accuracy: \t\t\t83.24 %\n",
      "Epoch 2 of 6 took 45.333s\n",
      "  training loss (in-iteration): \t0.521585\n",
      "  validation loss (in-iteration): \t0.392527\n",
      "  training accuracy: \t\t\t86.56 %\n",
      "  validation accuracy: \t\t\t89.69 %\n",
      "Epoch 3 of 6 took 44.123s\n",
      "  training loss (in-iteration): \t0.305727\n",
      "  validation loss (in-iteration): \t0.307690\n",
      "  training accuracy: \t\t\t91.68 %\n",
      "  validation accuracy: \t\t\t91.93 %\n",
      "Epoch 4 of 6 took 44.518s\n",
      "  training loss (in-iteration): \t0.211237\n",
      "  validation loss (in-iteration): \t0.289822\n",
      "  training accuracy: \t\t\t94.05 %\n",
      "  validation accuracy: \t\t\t92.93 %\n",
      "Epoch 5 of 6 took 44.292s\n",
      "  training loss (in-iteration): \t0.157824\n",
      "  validation loss (in-iteration): \t0.285806\n",
      "  training accuracy: \t\t\t95.82 %\n",
      "  validation accuracy: \t\t\t92.13 %\n",
      "Epoch 6 of 6 took 44.674s\n",
      "  training loss (in-iteration): \t0.125938\n",
      "  validation loss (in-iteration): \t0.248531\n",
      "  training accuracy: \t\t\t96.75 %\n",
      "  validation accuracy: \t\t\t93.74 %\n"
     ]
    },
    {
     "data": {
      "image/png": "[encoded data removed]",
      "text/plain": [
       "<Figure size 2000x700 with 2 Axes>"
      ]
     },
     "metadata": {},
     "output_type": "display_data"
    }
   ],
   "source": [
    "# # Определяем функцию потерь для классификации (кросс-энтропия)\n",
    "criterion = nn.CrossEntropyLoss()\n",
    "lr = 0.01 # # Скорость обучения\n",
    "optim = torch.optim.SGD(fine_tuning_model.parameters(), lr) # Используем стохастический градиентный спуск (SGD)\n",
    "\n",
    "clf, history = train(fine_tuning_model, criterion, optim, train_batch_gen, val_batch_gen, 6)\n",
    "plot_learning_curves(history)"
   ]
  },
  {
   "cell_type": "code",
   "execution_count": null,
   "metadata": {
    "id": "qmRNZOVw00DB"
   },
   "outputs": [],
   "source": [
    "# Загрузка тестового набора данных\n",
    "test_dataset = tv.datasets.ImageFolder(\n",
    "    test_data_dir,\n",
    "    transform=val_transforms,\n",
    ")\n",
    "\n",
    "# Генератор Батчей\n",
    "test_batch_gen = torch.utils.data.DataLoader(\n",
    "    test_dataset, batch_size=batch_size, shuffle=False\n",
    ")"
   ]
  },
  {
   "cell_type": "code",
   "execution_count": null,
   "metadata": {
    "id": "SMVgnbzvZPQB"
   },
   "outputs": [],
   "source": [
    "# Оценка модели на тестовом наборе\n",
    "fine_tuning_model.eval()\n",
    "pred: list = []\n",
    "for X_batch in test_batch_gen:\n",
    "    X_batch = X_batch[0]\n",
    "    X_batch = X_batch.to(device)\n",
    "\n",
    "    logits: torch.Tensor = fine_tuning_model(X_batch)\n",
    "    pred.extend(logits.max(1)[1].detach().cpu().numpy())"
   ]
  },
  {
   "cell_type": "code",
   "execution_count": null,
   "metadata": {
    "id": "Q0ZS795DZQbY"
   },
   "outputs": [],
   "source": [
    "# Создание списка классов (ну они и придумали формат)\n",
    "classes = [f\"class_{i}\" for i in range(50)]\n",
    "classes.sort()\n",
    "\n",
    "# Словарь для перевода индексов в имена классов\n",
    "fix = {i: cls for i, cls in enumerate(classes)}"
   ]
  },
  {
   "cell_type": "code",
   "execution_count": null,
   "metadata": {
    "id": "-UEEaec5ZTFB"
   },
   "outputs": [],
   "source": [
    "# Функция для преобразования индекса в исходный номер класса\n",
    "def lex_to_orig(i) -> int:\n",
    "    return fix[i].split('_')[-1]"
   ]
  },
  {
   "cell_type": "code",
   "execution_count": null,
   "metadata": {
    "id": "af0EclnqZUlY"
   },
   "outputs": [],
   "source": [
    "output = pd.DataFrame({\n",
    "    \"index\": [obj[0].split(\"/\")[-1].split(\".jpg\")[0] for obj in test_dataset.imgs],\n",
    "    \"label\": pred,\n",
    "})"
   ]
  },
  {
   "cell_type": "code",
   "execution_count": null,
   "metadata": {
    "colab": {
     "base_uri": "https://localhost:8080/",
     "height": 424
    },
    "id": "KySyRM9yZVqY",
    "outputId": "2732c95f-a7e9-471d-cb98-7763b9641712"
   },
   "outputs": [
    {
     "data": {
      "application/vnd.google.colaboratory.intrinsic+json": {
       "summary": "{\n  \"name\": \"output\",\n  \"rows\": 250,\n  \"fields\": [\n    {\n      \"column\": \"index\",\n      \"properties\": {\n        \"dtype\": \"string\",\n        \"num_unique_values\": 250,\n        \"samples\": [\n          \"226\",\n          \"103\",\n          \"186\"\n        ],\n        \"semantic_type\": \"\",\n        \"description\": \"\"\n      }\n    },\n    {\n      \"column\": \"label\",\n      \"properties\": {\n        \"dtype\": \"category\",\n        \"num_unique_values\": 50,\n        \"samples\": [\n          \"10\",\n          \"2\",\n          \"0\"\n        ],\n        \"semantic_type\": \"\",\n        \"description\": \"\"\n      }\n    }\n  ]\n}",
       "type": "dataframe",
       "variable_name": "output"
      },
      "text/html": [
       "\n",
       "  <div id=\"df-1965fe31-4114-4c04-8de3-5d514be06491\" class=\"colab-df-container\">\n",
       "    <div>\n",
       "<style scoped>\n",
       "    .dataframe tbody tr th:only-of-type {\n",
       "        vertical-align: middle;\n",
       "    }\n",
       "\n",
       "    .dataframe tbody tr th {\n",
       "        vertical-align: top;\n",
       "    }\n",
       "\n",
       "    .dataframe thead th {\n",
       "        text-align: right;\n",
       "    }\n",
       "</style>\n",
       "<table border=\"1\" class=\"dataframe\">\n",
       "  <thead>\n",
       "    <tr style=\"text-align: right;\">\n",
       "      <th></th>\n",
       "      <th>index</th>\n",
       "      <th>label</th>\n",
       "    </tr>\n",
       "  </thead>\n",
       "  <tbody>\n",
       "    <tr>\n",
       "      <th>0</th>\n",
       "      <td>0</td>\n",
       "      <td>14</td>\n",
       "    </tr>\n",
       "    <tr>\n",
       "      <th>1</th>\n",
       "      <td>1</td>\n",
       "      <td>40</td>\n",
       "    </tr>\n",
       "    <tr>\n",
       "      <th>2</th>\n",
       "      <td>10</td>\n",
       "      <td>38</td>\n",
       "    </tr>\n",
       "    <tr>\n",
       "      <th>3</th>\n",
       "      <td>100</td>\n",
       "      <td>1</td>\n",
       "    </tr>\n",
       "    <tr>\n",
       "      <th>4</th>\n",
       "      <td>101</td>\n",
       "      <td>48</td>\n",
       "    </tr>\n",
       "    <tr>\n",
       "      <th>...</th>\n",
       "      <td>...</td>\n",
       "      <td>...</td>\n",
       "    </tr>\n",
       "    <tr>\n",
       "      <th>245</th>\n",
       "      <td>95</td>\n",
       "      <td>48</td>\n",
       "    </tr>\n",
       "    <tr>\n",
       "      <th>246</th>\n",
       "      <td>96</td>\n",
       "      <td>2</td>\n",
       "    </tr>\n",
       "    <tr>\n",
       "      <th>247</th>\n",
       "      <td>97</td>\n",
       "      <td>7</td>\n",
       "    </tr>\n",
       "    <tr>\n",
       "      <th>248</th>\n",
       "      <td>98</td>\n",
       "      <td>0</td>\n",
       "    </tr>\n",
       "    <tr>\n",
       "      <th>249</th>\n",
       "      <td>99</td>\n",
       "      <td>42</td>\n",
       "    </tr>\n",
       "  </tbody>\n",
       "</table>\n",
       "<p>250 rows × 2 columns</p>\n",
       "</div>\n",
       "    <div class=\"colab-df-buttons\">\n",
       "\n",
       "  <div class=\"colab-df-container\">\n",
       "    <button class=\"colab-df-convert\" onclick=\"convertToInteractive('df-1965fe31-4114-4c04-8de3-5d514be06491')\"\n",
       "            title=\"Convert this dataframe to an interactive table.\"\n",
       "            style=\"display:none;\">\n",
       "\n",
       "  <svg xmlns=\"http://www.w3.org/2000/svg\" height=\"24px\" viewBox=\"0 -960 960 960\">\n",
       "    <path d=\"M120-120v-720h720v720H120Zm60-500h600v-160H180v160Zm220 220h160v-160H400v160Zm0 220h160v-160H400v160ZM180-400h160v-160H180v160Zm440 0h160v-160H620v160ZM180-180h160v-160H180v160Zm440 0h160v-160H620v160Z\"/>\n",
       "  </svg>\n",
       "    </button>\n",
       "\n",
       "  <style>\n",
       "    .colab-df-container {\n",
       "      display:flex;\n",
       "      gap: 12px;\n",
       "    }\n",
       "\n",
       "    .colab-df-convert {\n",
       "      background-color: #E8F0FE;\n",
       "      border: none;\n",
       "      border-radius: 50%;\n",
       "      cursor: pointer;\n",
       "      display: none;\n",
       "      fill: #1967D2;\n",
       "      height: 32px;\n",
       "      padding: 0 0 0 0;\n",
       "      width: 32px;\n",
       "    }\n",
       "\n",
       "    .colab-df-convert:hover {\n",
       "      background-color: #E2EBFA;\n",
       "      box-shadow: 0px 1px 2px rgba(60, 64, 67, 0.3), 0px 1px 3px 1px rgba(60, 64, 67, 0.15);\n",
       "      fill: #174EA6;\n",
       "    }\n",
       "\n",
       "    .colab-df-buttons div {\n",
       "      margin-bottom: 4px;\n",
       "    }\n",
       "\n",
       "    [theme=dark] .colab-df-convert {\n",
       "      background-color: #3B4455;\n",
       "      fill: #D2E3FC;\n",
       "    }\n",
       "\n",
       "    [theme=dark] .colab-df-convert:hover {\n",
       "      background-color: #434B5C;\n",
       "      box-shadow: 0px 1px 3px 1px rgba(0, 0, 0, 0.15);\n",
       "      filter: drop-shadow(0px 1px 2px rgba(0, 0, 0, 0.3));\n",
       "      fill: #FFFFFF;\n",
       "    }\n",
       "  </style>\n",
       "\n",
       "    <script>\n",
       "      const buttonEl =\n",
       "        document.querySelector('#df-1965fe31-4114-4c04-8de3-5d514be06491 button.colab-df-convert');\n",
       "      buttonEl.style.display =\n",
       "        google.colab.kernel.accessAllowed ? 'block' : 'none';\n",
       "\n",
       "      async function convertToInteractive(key) {\n",
       "        const element = document.querySelector('#df-1965fe31-4114-4c04-8de3-5d514be06491');\n",
       "        const dataTable =\n",
       "          await google.colab.kernel.invokeFunction('convertToInteractive',\n",
       "                                                    [key], {});\n",
       "        if (!dataTable) return;\n",
       "\n",
       "        const docLinkHtml = 'Like what you see? Visit the ' +\n",
       "          '<a target=\"_blank\" href=https://colab.research.google.com/notebooks/data_table.ipynb>data table notebook</a>'\n",
       "          + ' to learn more about interactive tables.';\n",
       "        element.innerHTML = '';\n",
       "        dataTable['output_type'] = 'display_data';\n",
       "        await google.colab.output.renderOutput(dataTable, element);\n",
       "        const docLink = document.createElement('div');\n",
       "        docLink.innerHTML = docLinkHtml;\n",
       "        element.appendChild(docLink);\n",
       "      }\n",
       "    </script>\n",
       "  </div>\n",
       "\n",
       "\n",
       "<div id=\"df-39b68f9e-d1bf-4483-8d84-c985587d8cb7\">\n",
       "  <button class=\"colab-df-quickchart\" onclick=\"quickchart('df-39b68f9e-d1bf-4483-8d84-c985587d8cb7')\"\n",
       "            title=\"Suggest charts\"\n",
       "            style=\"display:none;\">\n",
       "\n",
       "<svg xmlns=\"http://www.w3.org/2000/svg\" height=\"24px\"viewBox=\"0 0 24 24\"\n",
       "     width=\"24px\">\n",
       "    <g>\n",
       "        <path d=\"M19 3H5c-1.1 0-2 .9-2 2v14c0 1.1.9 2 2 2h14c1.1 0 2-.9 2-2V5c0-1.1-.9-2-2-2zM9 17H7v-7h2v7zm4 0h-2V7h2v10zm4 0h-2v-4h2v4z\"/>\n",
       "    </g>\n",
       "</svg>\n",
       "  </button>\n",
       "\n",
       "<style>\n",
       "  .colab-df-quickchart {\n",
       "      --bg-color: #E8F0FE;\n",
       "      --fill-color: #1967D2;\n",
       "      --hover-bg-color: #E2EBFA;\n",
       "      --hover-fill-color: #174EA6;\n",
       "      --disabled-fill-color: #AAA;\n",
       "      --disabled-bg-color: #DDD;\n",
       "  }\n",
       "\n",
       "  [theme=dark] .colab-df-quickchart {\n",
       "      --bg-color: #3B4455;\n",
       "      --fill-color: #D2E3FC;\n",
       "      --hover-bg-color: #434B5C;\n",
       "      --hover-fill-color: #FFFFFF;\n",
       "      --disabled-bg-color: #3B4455;\n",
       "      --disabled-fill-color: #666;\n",
       "  }\n",
       "\n",
       "  .colab-df-quickchart {\n",
       "    background-color: var(--bg-color);\n",
       "    border: none;\n",
       "    border-radius: 50%;\n",
       "    cursor: pointer;\n",
       "    display: none;\n",
       "    fill: var(--fill-color);\n",
       "    height: 32px;\n",
       "    padding: 0;\n",
       "    width: 32px;\n",
       "  }\n",
       "\n",
       "  .colab-df-quickchart:hover {\n",
       "    background-color: var(--hover-bg-color);\n",
       "    box-shadow: 0 1px 2px rgba(60, 64, 67, 0.3), 0 1px 3px 1px rgba(60, 64, 67, 0.15);\n",
       "    fill: var(--button-hover-fill-color);\n",
       "  }\n",
       "\n",
       "  .colab-df-quickchart-complete:disabled,\n",
       "  .colab-df-quickchart-complete:disabled:hover {\n",
       "    background-color: var(--disabled-bg-color);\n",
       "    fill: var(--disabled-fill-color);\n",
       "    box-shadow: none;\n",
       "  }\n",
       "\n",
       "  .colab-df-spinner {\n",
       "    border: 2px solid var(--fill-color);\n",
       "    border-color: transparent;\n",
       "    border-bottom-color: var(--fill-color);\n",
       "    animation:\n",
       "      spin 1s steps(1) infinite;\n",
       "  }\n",
       "\n",
       "  @keyframes spin {\n",
       "    0% {\n",
       "      border-color: transparent;\n",
       "      border-bottom-color: var(--fill-color);\n",
       "      border-left-color: var(--fill-color);\n",
       "    }\n",
       "    20% {\n",
       "      border-color: transparent;\n",
       "      border-left-color: var(--fill-color);\n",
       "      border-top-color: var(--fill-color);\n",
       "    }\n",
       "    30% {\n",
       "      border-color: transparent;\n",
       "      border-left-color: var(--fill-color);\n",
       "      border-top-color: var(--fill-color);\n",
       "      border-right-color: var(--fill-color);\n",
       "    }\n",
       "    40% {\n",
       "      border-color: transparent;\n",
       "      border-right-color: var(--fill-color);\n",
       "      border-top-color: var(--fill-color);\n",
       "    }\n",
       "    60% {\n",
       "      border-color: transparent;\n",
       "      border-right-color: var(--fill-color);\n",
       "    }\n",
       "    80% {\n",
       "      border-color: transparent;\n",
       "      border-right-color: var(--fill-color);\n",
       "      border-bottom-color: var(--fill-color);\n",
       "    }\n",
       "    90% {\n",
       "      border-color: transparent;\n",
       "      border-bottom-color: var(--fill-color);\n",
       "    }\n",
       "  }\n",
       "</style>\n",
       "\n",
       "  <script>\n",
       "    async function quickchart(key) {\n",
       "      const quickchartButtonEl =\n",
       "        document.querySelector('#' + key + ' button');\n",
       "      quickchartButtonEl.disabled = true;  // To prevent multiple clicks.\n",
       "      quickchartButtonEl.classList.add('colab-df-spinner');\n",
       "      try {\n",
       "        const charts = await google.colab.kernel.invokeFunction(\n",
       "            'suggestCharts', [key], {});\n",
       "      } catch (error) {\n",
       "        console.error('Error during call to suggestCharts:', error);\n",
       "      }\n",
       "      quickchartButtonEl.classList.remove('colab-df-spinner');\n",
       "      quickchartButtonEl.classList.add('colab-df-quickchart-complete');\n",
       "    }\n",
       "    (() => {\n",
       "      let quickchartButtonEl =\n",
       "        document.querySelector('#df-39b68f9e-d1bf-4483-8d84-c985587d8cb7 button');\n",
       "      quickchartButtonEl.style.display =\n",
       "        google.colab.kernel.accessAllowed ? 'block' : 'none';\n",
       "    })();\n",
       "  </script>\n",
       "</div>\n",
       "    </div>\n",
       "  </div>\n"
      ],
      "text/plain": [
       "    index label\n",
       "0       0    14\n",
       "1       1    40\n",
       "2      10    38\n",
       "3     100     1\n",
       "4     101    48\n",
       "..    ...   ...\n",
       "245    95    48\n",
       "246    96     2\n",
       "247    97     7\n",
       "248    98     0\n",
       "249    99    42\n",
       "\n",
       "[250 rows x 2 columns]"
      ]
     },
     "execution_count": 34,
     "metadata": {},
     "output_type": "execute_result"
    }
   ],
   "source": [
    "# Преобразуем метки в исходные номера классов\n",
    "output[\"label\"] = output[\"label\"].apply(lex_to_orig)\n",
    "output"
   ]
  },
  {
   "cell_type": "code",
   "execution_count": null,
   "metadata": {
    "id": "V4Ev5Fb1ZX2R"
   },
   "outputs": [],
   "source": [
    "output.to_csv(\"submission.csv\", index=False)"
   ]
  },
  {
   "cell_type": "markdown",
   "metadata": {
    "id": "_xn-4961rNm4"
   },
   "source": [
    "![image.png](data:image/png;base64,iVBORw0KGgoAAAANSUhEUgAABPAAAAExCAIAAAB9LcviAAAgAElEQVR4Aezd/09bV4L///039jcjWeIHS1ktUjSKVFZRx59SxMqRkCx1ghjJelvvolRJlG6zmaRZShQx7miRZ0W+bEMzURFow4LSQeSTZKhIaIfaogV7mABNA05CcAoZJ6C4lMwlcXvfOvfce32vsY1NSGrgWaHEvl/OPedxTOqXz7nH/6DyHwIIIIAAAggggAACCCCAAAKbUOAfNmGdqTICCCCAAAIIIIAAAggggAACKoGWFwECCCCAAAIIIIAAAggggMCmFCDQbspuo9IIIIAAAggggAACCCCAAAIEWl4DCCCAAAIIIIAAAggggAACm1KAQLspu41KI4AAAggggAACCCCAAAIIEGh5DSCAAAIIIIAAAggggAACCGxKAQLtpuw2Ko0AAggggAACCCCAAAIIIECg5TWAAAIIIIAAAggggAACCCCwKQUItJuy26g0AggggAACCCCAAAIIIIAAgZbXAAIIIIAAAggggAACCCCAwKYUINBuym6j0ggggAACCCCAAAIImALLy0/jD+Ymvpn6anTsi9DX178Ib/OfL0JffzU6NvHNVPzB3PLyUxPqJT3Yhv6vWDhPxxFo8+CwCwEEEEAAAQQQQACBkhaYe5gYHRv/cnj01tSd+YeJpaUfnj9//lNJV/mlV+4nVX3+/PnS0g/zDxO3pu58OTw6OjY+9zDxMi68Pf1fpfCavUagXZOIAxBAAAEEEEAAAQQQKDmBxKOFr0bHxm5+8+jxQslVrsQq9OjxwtjNb74aHUs82jAr/K2d/DKEreXneUygzYPDLgQQQAABBBBAAAEESlHg26k7wyN/IcoW1TePHi8Mj/zl26k7RZ2V9WD8s7JsoHDW8rNuJNBmZWEjAggggAACCCCAAAKlKKCsrIyOjd+aurPN5xWvr29+UtVbU3dGx8aVlZX1lYB/frcXF85f/uq9BNrVJmxBAAEEEEAAAQQQQKAUBZSVla9Gx+7dj5di5TZPne7dj381OraOTIt/gZ28buECy7ceRqC1avAYAQQQQAABBBBAAIHSFRgdGyfNbkj33LsfHx0bL7Yo/AsXW59w4eWbRxJoTQoeIIAAAggggAACCCBQugLfTt25tRH3f5ZuC19tzW5N3Snqflr8i+2fYoWLLV8eT6BdnxtnIYAAAggggAACCCDw6gQSj8SCRtw3u4HiP6nq8MhfClz3GP91yBclvI7y5SkE2nXTcSICCCCAAAIIIIAAAq9I4KvRMdY03nDrR4/FVx8VUiz+hSitPqZw4dXnFriFQFsgFIchgAACCCCAAAIIIPDzCMw9TIzd/ObnufZWv+rYzW/mHibytxL//D759xYinL+E/HtfZaBNTg+FQ/LndjJ/tV7p3sWYXquh6KyywVdW4lGj8FgptXntZm7emq/dNo5AAAEEEEAAAQQ2lcDo2DjDsy+pxx49XlhzdSj8XwS/EOEXKf9VBtpoc5nTIX8C0Rep9AafOxLQa1Xm75rf4LITPX6j8EBkg8t+ucVt3pq/XBdKRwABBBBAAAEEXq3A8vLTL4dH131N7U3dut7lLieTi+kfJbXuKuQ4MaVYy09u9MBSjqtm2fzl8Ojy8tMsO7RN6/ZPTvY1N3h2ukQCKt/lPXhucDqpqvPdvjJn80iuq1m2r9c/MdLdFgy2BDsiLz6eJvto2VKrdT3ML7yuItMnEWhVlUCbfj2kHxFo0xY8QgABBBBAAAEEfj6B+IO5F1nceN2BNhIwxqL0QamKveeiyQ2MtVq0M8Z+xLV21DZ13V4z1yqz0XBoQ2dW3pq6E38wl6uH1+WvRIKecpFj/Y0iWwZbjvtFsnV5T/WdLzDQrs9fGWoq1/ur6caalrnabG6XQemFByPzC5tXW98DAi2BNvsrh0Cb3YWtCCCAAAIIIIDAqxWY+GZqfq2bPPPU6AUDbe27Wh47eahGG2n09axxu2memmTukoG2Uka+wEHvLi2JVbVE8+ewRJfP6djQmZXzDxMT30xlVs94vg7/6U+8jrKKhp64UYb293Ks/Z0KGeALGaGVgbZYf3nWkYH8hrZ65XuyQYE2v3C+ChSwr+QDrTkVYc1ZCOaRi2v1n6LPndAnTqw5Qmscn8w62m7uNWqoJEX5svAssdA4fs1pG4oxx2PNI1WjzKRRB1vXp2X0WunHZzRHn9Wg62Wpua1QniCAAAIIIIAAAgi8CoGvRseWln5Y95VeMNCa0UsZOCrCmL9PJtpkbLD95KG9nvqDJztuyLVi5sNipuu5Qf2AkY6WYLB9RJv2mopdEwOV3bZJsDLQ+rrNiDzb4xeZtrZjVrY2GbvRGThY79n7bqB9IKYNDicjnU2+SqejbLevKdjyJz0xikm2x/fVePY1nuuOFH8L4dLSD3nWOi7af7GvocxZ+0nM2mX6G/tEtKVKjEWbqtZjMh7LaGoemeGvzke7zjU1aP4hvcnxa8HgwVpRvhaD+2fVZKRTm3scj/UG9tU0DYrOMFQbjp/vnbRMSl6O3+gMNjYI7ba+SX0o3gi0yu2+lnfr974btJ2SUePcT/ML5z6voD0lHGgT4bZ3vTvM2261IfvmvliWtDofPuWXn+gY8yJcu3yBvumMwCb6b7LrqBj91+c2VNS33VTyTDlWbvc120veUXuoLWz+0gnidPDzdSeWJ9vqbZ+7pPeWBSKqMnGuPt0il+dIj/FasXZWKjnR01RbYVRS1Lai9t3zxivVeqianOxurNWvaDTKe/BcOGGdDZKezuHvmrfUwZw8MB8+ZVRbTPGvOXotbmmXqDn/IYAAAggggAACCPw8Al+Evn7+/Hnx11Yi585HluWbOnEPrTJyvm0ky1vpXCVnBCo1rK07o+VPZSTgLnM6XLtqPPIe0apmUfLkKRE1D13TYtO1A+LdbLl8wzl5prLM6bBkV3HRVYFWTckS/L0JVV2ONrudjjLXzhpPzS6Xo8zpDkQVVQ7PGu+TtcL1GFxRVeOpEu+0Xf4u+8horgaa258/f/5F6GvzacaDYv0Tn/odZRnTfS1rCWlJxIypGdeyPs3jr8a7fWLAvMJt88+4SiCic3l8vt0iKYi0klZ1i7jh8slh5NTkKVPbLcJFufzkQgbadw4d1MbntbhRdWrSWs2CHucXLqiI3AeVaKBVbndonWS8WM0Iqr+U0w1SRoJy/oMe5yxHOtyBiDXT6v1nL9Pl7+3JvihUYrBJ/KJm+TE6XqtFOrL6OroC2mtFO0W+TNN7ywJd8jMne4Hab2a6OWoq3uUXv7FZflzeUzdt/wbNfrovHY/tp5T7u2fNTGsJtO09AfGvifyR/77ovw/GRrnLHez9ZLMuZ2XR5CECCCCAAAIIILDpBa5/Ef6p+EYoMyLzlNcEu/7gd5T523rEe2bxFtH2djJfuTJQNfxB+5qSgY4jNVqqPBdTVSVxs689eP6GzI0y6J4Mq6oaCYhjmsOqmgo3lznLXS6Hp2PaGAGqsQ9aZgm0Rl5tHlGV+cnezmDbgHYNrTRHWSAk3t9mTDlOTg92twW7J7S3/bMX6x1lzr0Xi0u0P6nq9S9E/bP+V6y/cMuI7qpqTr2U62CtPQFTYIr359n8k73vOB1l3rbbWn3jYpUpc1jbHoP1/F95vF/0e0qdaN3tKHM1DmgDs8vh5kqnw9UUEp9FaJ84eOXYuDLR09E7NJlQjHszXYd651U1lQydFGGnPFj0+r75hbOyF76xJAOtEm0RnxCIn/KaQ2194dDQYFfAHNt0+T41xkiVqOgG25Hh3nP7zCBa2Wp+gKCEmtJBUb8/27gZwEiPlvXf5vvMRL2jPtA1EA4N9bUdMEd305P705HV5dLGfsUnJTWeqlPa2mXpvUYlm82bwmV0LNutfaAlu0yJBKuMyjh31Del7yCXB7uabpgRPR1TnUYNB7tOes3x54Y+YwpB+khXufbhyg63p8bjcbdGVTXerk1LkBfdUXtIq55JLW0ZoS38F4ojEUAAAQQQQACBDRYoNlClL28ft7ANeKQPyvlIRiPzralYtOmdDnMKpJKIRYb62oPBRjnRT0a4kUB5mbPy7KQWkHY3B5ocZf7ehHLjuJgknDmyt3qEVg+rrhaZmJTE9Ei4tzPYcly+O5Xv1TMCrai/MjMZGuhuCwYOaqnbYc5DzNk42478catY/6yB1na9wp7k9FcGG0U08B6Uy00F5RxsbVjbiMHGCLAeaI2nsXaPMVtbO1ebn6xpJ/uPiJjg2uk91Hyu+8bNuB655Qitmc+NGciFtSB9VH7h9HHrelSKgXa206v/5lQGQmZ+U9XZi8aYYeWZCdnaxZj22m1q8NiODJ3UU678TEgcm+w/qAdIp8PXkR69tP2em4HWkn59lqFOVZEfS4jqHeiXedEaWcv9HRNGipQVtO9NF6XP05BVMopSZzpqjUpWngybH59ZD67t1D9wEt8T29fRcvLQ3obuaXMwVo137TXafnxQLyEdaMUcjHbrXHn5YYx20cqTYXPZOusVHUw5XtevFichgAACCCCAAAIbIlDslFfbRY33usWmWW24Vbyr1EYIuxvFaFN6GGbinDbMU1FVU3+o+V3trbvMPDJr+fsi4qsrm27ExOBh42BUTEU238Cb9VsdaFPRZhGrtEnLk+e1aZgVbnGb6CHtTXLWQJu8dlibIrvLU9PQ1OjX5ksWGWjzT4gt1j/blGOzzWpS3Fpsv5c4vdP2SAbaLP6JPjEkq803rhEDafLn6DVtyE+eZSTYjEAbbZGptcY8Szxokx8fzIfb3q2Xs7u1YcUzEXOE9oUDbX5hW7OLf1KCgTbR69cjWea0hHQo9bTb7rK2tzuVvHHcHIw1RhflXAjR967GITMqihO1kXd5RTPQys4WGxuNVKhfI50A9ZnxlsjqbZ+x18SYX6Hl84w6y0+q5HX1Smqv/oyayALlvAJtlzZtI/My5vNUrM0ccTVfeZZAa+ZheYaclaFVL6PylisSaE1eHiCAAAIIIIAAAq9coNhFiSLnPDVH+40Jjaoa7254Jz2soib6j5gZJm9brNFIGdS+DKa2QxtHkfdqHtVnDlrurVXVpHbr7NEjh+XwjxgSrDx81GfeTGu9YkagTSVDATFXsVwb7JFX11fr1accZwu0shDPeTnAo7+5LTLQ5l+yqFh/NduiUHq75a2q75gTKa0cmY9z+8s7jQ1/Vaz3as5htp5lTM8216CSvePR5yqrqrpsnKgkkzOTkbiWkhbDLWIgVztrg0Zo8wtntrzI5yUYaNN3M5fvsn14oN/nrQ0nGp86aM1NJadHtAkPDWKur/22UiMrik+J9Kwo7jK3/pfOukagtSRAOTvX+OTDU1Njrj6lH2wJtEZ4thSeZ69ll16UfP2Jeq76BMuSPO1XUeITcn5FvbVuWkuzBVqbmzEnQVzRFcxY+SnnFS2t4yECCCCAAAIIIIDAyxYo9mtjxFtK833g6sppb3Qz3hOuPsocodWPTMW0+9RcB68kjcWfqhp7opGRvhavNpJkXDHZt0++65Zf8DNxVi4xkzmkJK4o33JrK0sZi0s5HRX7erX5iPJEd1N3ZCTaG5R31cn3zDKVaQv5/imuT8N0+U8NRSMDHUfkfYtFBtr8XypTrL+qqtm/tic5Kb62p+A1q2zR1OYvy3fuqD/TOxTubdXmYxv+trMs9yTLLpYfTJTXHG0fCN/oPCrGwCsDYiR28oy4Z9MttocGzmi3Xu7rXTTuoTUK1xfTLZJXdHXeL0bK+vIrfGNJB1ojgsogavvT/CWcvaL1hB5Wbcdop68OtPZAqBr9JErIEmhz1+FlBlrzRWP05Or0q2asmbxawCzEks9NN1lwOkKbB2e54iox4xj+RgABBBBAAAEEEHjZAvEHc7em7hR+FfEGT/9yV+0rZPU7LY3HTf7K9X1tzIi2tqj7zERKTS/LWlHf1ndezIA130zq7zyN2X/aXbWrVv3VWmN5jyoGZnd5GgJ96dv3lqMt8obYsoq95/raLN89q0ye3yu/EERbiddcJ1V8VcdFbbXXIhPXrak78QdzuYSL9dfKUSJBMStbX7jHXENn1SKvuS6a+YGCqioWfzWVjJzz79QWxxE3vvrPm9+HlD/Qqqo625f+OpUdtU29xgzT2Svp7eW7/G1R7UbKDRqhzS+cB6GQXSUdaGtO9oWGtHXVVv05vai1Tn6WoGU58XLp7AsNRafnldn0eOzqQGukVoNHGWwyUquxy/LbpS8stqoCoaGoXCPOEjWzBD/rXm1ZNuOqttnI+nXT8bKAEdrklUPm+k87ag+19AyGhiZnk0pIWw9NtCjznxWR9nMG2lXziqc/8RgsWdqVbgaPEEAAAQQQQAABBF6mwPLy0y+HRwu/QjrvrR7w0LbsqD8/YbsDr/CyLUemlOSiMWHVsnljHyrJZDJXVRXLDlEZy9MiK/Hl8Ojy8tNcJxXrb5aTnOxrbpBfa+Qs3+U9eG5w2r7ajnnkOh9oXZDTJ2+hYtVly1pF5rECPNt284D1PcgvvL4yzbNKMNDq9y475AppZk2zPYgEjXtl9Qn9+kFZwlh6XnHmbbFZ7qHV70cXCVCbVpHt2sY2a2TNmLVr+5bast2nbhrniL8tN6ka032LuYc2fadxubn4kyjWcmtuAYHWMq844xZfS/VWZV1rM3iMAAIIIIAAAggg8LIFRsfGHz1eeNlX2Z7lP3q8MDo2nr/t+Of3yb+3EOH8JeTfW4KBVk2vcuxqumH9GCPW4avxNBwPtvfpo6PpIU3tm6/0pupTzOX0Y2N0Mb2glNP2/bTaN3QZQ5HGCK1qWeW4Vr/FXBauDAZqxEpr57sGYrJqBQda7Yu/jOWIrcsIlzcZCxoXscpxOvbbvmhrebBRn3tQ0Ait/pVTcojb8tW1ybD2Zdn6p3qGYf6XEnsRQAABBBBAAAEEXo7A3MPE2M1vXk7Z273UsZvfzD3MWGIn0wT/TJFinhciXEx5mcf+TIE2+/wHI0/KL/mVx1TUN4vJtOHec4e0lbu1mGqMPVpGYqsaeyZnF5OJ2OAp+V1YmWFMiQTkLelaCRXegyeDLcfNqecy/RoVUMVycNpy2GJ7tu/CdVYGonJaQ+GBVrs3wN8YDDa/67WsXFVl+Uquwr+H1jISK26CjyUWk7Mj+hde6/ncUNJvuNdAMqYcm0ufyVPkLH979Zx8bU/mLw3PEUAAAQQQQACBVy7w1egYg7Qbrv7o8cJXo2OFFIt/IUqrjylcePW5BW4pyUCrqsrNM7XmSGNG+jWWPhMtnO/T1uCScdT8s6o5cNQYdLWMLi5Hm+W6Z9YCXf7eHu3ecbHREmhVdfbKUbHYV7af8ppgxJhcXnCgDXT1+M27Xo1iXTVBPRjrHZaKd/mNedQZl7bfRK5Eg1mq5/I3n6zXCy8o0GrRfTW1O9j7ibkutMWwwJcVhyGAAAIIIIAAAghsqEDi0cLwyF9+2tAyt3lhP6nq8MhfEo8KmsuN/zpeLUUJr6N8eUqJBlpRueRk13HrSKbT4drlsy59Jlsw09dYK75MWf+pqD8VTugrSouN9jC2HLOWWV5ztOu2YjnYFmhF8fPhU37ze3q0S1R4D54LJ4yZw/a7ZO3X0qpnj7vKdOchYzkyp6PC29gTy3L3eio50ZNeZExrV0Xtu+dD87LB6T+T0fO+Xen0K5uTvmKBgVa0wdbMHfVnQgk1XU6GYfr6PEIAAQQQQAABBBB4dQLfTt0parnjV1ezzXmlW1N3vi1m+Wj8i+3nYoWLLV8e/yoD7bpqKBfvWkyusXDZcjK55jHm9WWZha8IZtah8FPMa61+oJeWJclmHCsWGRONWmP5OP2wF6+bol3OGHnOqAxPEUAAAQQQQAABBH52gdGx8Xv3te9p/dmrsskrcO9+fM21oFY3Ef/VJrm2rE84V2l5tpd8oM1Td3YhgAACCCCAAAIIILCdBJSVla9Gx8i0L9jn9+7HvxodU1ZWii0H/wLF1i1cYPnWwwi0Vg0eI4AAAggggAACCCBQ0gLKysro2PitqTvcT7uOfvpJVW9N3RkdG19HmpWXwz8/+4sL5y9/9V4C7WoTtiCAAAIIIIAAAgggUNIC307dGR75C+seF9VJjx6LhbWKum82V/n4Z5XZQOGs5WfdSKDNysJGBBBAAAEEEEAAAQRKWiDxSHzlzNjNb4i1a/bTo8cLYze/+Wp0rMA1jdcsUCyrir+F6WUIW4rP95BAm0+HfQgggAACCCCAAAIIlLLA3MPE6Nj4l8Ojt6buzD9MLC398Pz5820+G/knVX3+/PnS0g/zDxO3pu58OTw6OjY+9zDxMvpxe/q/SuE1e41AuyYRByCAAAIIIIAAAgggUNICy8tP4w/mJr6Z+mp07IvQ19e/CG/zny9CX381OjbxzVT8wdzy8tOX3Xnb0P8VC+fpQQJtHhx2IYAAAggggAACCCCAAAIIlK4AgbZ0+4aaIYAAAggggAACCCCAAAII5BEg0ObBYRcCCCCAAAIIIIAAAggggEDpChBoS7dvqBkCCCCAAAIIIIAAAggggEAeAQJtHhx2IYAAAggggAACCCCAAAIIlK4AgbZ0+4aaIYAAAggggAACCCCAAAII5BEg0ObBYRcCCCCAAAIIIIAAAggggEDpChBoS7dvqBkCCCCAAAIIIIAAAggggEAeAQJtHhx2IYAAAggggAACCCCAAAIIlK4AgbZ0+4aaIYAAAggggAACCCCAAAII5BEg0ObBYRcCCCCAAAIIIIAAAggggEDpChBoS7dvqBkCCCCAAAIIIIAAAggggEAeAQJtHhx2IYAAAggggAACCCCAAAIIlK4AgbZ0+4aaIYAAAggggAACCCCAAAII5BEg0ObBYRcCCCCAAAIIIIAAAggggEDpChBoS7dvqBkCCCCAAAIIIIAAAggggEAeAQJtHhx2IYAAAggggAACCCCAAAIIlK4AgbZ0+4aaIYAAAggggAACCCCAAAII5BEg0ObBYRcCCCCAAAIIIIAAAggggEDpChBoS7dvqBkCCCCAAAIIIIAAAggggEAeAQJtHhx2IYAAAggggAACCCCAAAIIlK4AgbZ0+4aaIYAAAggggAACCCCAAAII5BEg0ObBYRcCCCCAAAIIIIAAAggggEDpChBoS7dvqBkCCCCAAAIIIIAAAggggEAeAQJtHhx2IYAAAggggAACCCCAAAIIlK4AgbZ0+4aaIYAAAggggAACCCCAAAII5BEg0ObBYRcCCCCAAAIIIIAAAggggEDpChBoS7dvqBkCCCCAAAIIIIAAAggggEAeAQJtHhx2IYAAAggggAACCCCAAAIIlK4AgbZ0+4aaIYAAAggggAACCCCAAAII5BEg0ObBYRcCCCCAAAIIIIAAAggggEDpChBoS7dvqBkCCCCAAAIIIIAAAggggEAeAQJtHhx2IYAAAggggAACCCCAAAIIlK4AgbZ0+4aaIYAAAggggAACCCCAAAII5BEg0ObBYRcCCCCAAAIIIIAAAggggEDpChBoS7dvqBkCCCCAAAIIIIAAAggggEAeAQJtHhx2IYAAAggggAACCCCAAAIIlK4AgbZ0+4aaIYAAAggggAACCCCAAAII5BEg0ObBYRcCCCCAAAIIIIAAAggggEDpChBoS7dvqBkCCCCAAAIIIIAAAggggEAeAQJtHhx2IYAAAggggAACCCCAAAIIlK4AgbZ0+4aaIYAAAggggAACCCCAAAII5BEg0ObBYRcCCCCAAAIIIIAAAggggEDpChBoS7dvqBkCCCCAAAIIIIAAAggggEAeAQJtHhx2IYAAAggggAACCCCAAAIIlK4AgbZ0+4aaIYAAAggggAACCCCAAAII5BEg0ObBYRcCCCCAAAIIIIAAAggggEDpChBoS7dvqBkCCCCAAAIIIIAAAggggEAeAQJtHhx2IYAAAggggAACCCCAAAIIlK4AgbZ0+4aaIYAAAggggAACCCCAAAII5BEg0ObBYRcCCCCAAAIIIIAAAggggEDpChBoS7dvqBkCCCCAAAIIIIAAAggggEAeAQJtHhx2IYAAAggggAACCCCAAAIIlK4AgbZ0+4aaIYAAAggggAACCCCAAAII5BEg0ObBYRcCCCCAAAIIIIAAAggggEDpChBoS7dvqBkCCCCAAAIIIIAAAggggEAeAQJtHhx2IYAAAggggAACCCCAAAIIlK4AgbZ0+4aaIYAAAggggAACCCCAAAII5BEg0ObBYRcCCCCAAAIIIIAAAggggEDpChBoS7dvqBkCCCCAAAIIIIAAAggggEAeAQJtHhx2IYAAAggggAACCCCAAAIIlK4AgbZ0+4aaIYAAAggggAACCCCAAAII5BEg0ObBYRcCCCCAAAIIIIAAAggggEDpChBoS7dvqBkCCCCAAAIIIIAAAggggEAeAQJtHhx2IYAAAggggAACCCCAAAIIlK5AqQTaH3/88fvvf3iYeHw/Pnfn3uxUbIYfBBBAAAEEEEAAAQQQQACBkhW4c2/2fnzuYeLx99//8OOPP/4sqffnD7QrK88eJh5PxWbm5hNPnnz/d0VJpX4ei5+lA7goAggggAACCCCAAAIIILAZBVKpH/+uKE+efD83n5iKzTxMPF5ZefaKG/IzB9pHjxdjd2cXFp8QYl9xx3M5BBBAAAEEEEAAAQQQQGCjBFKpHxcWn8Tuzj56vLhRZRZSzs8WaFdWnonh6b89JsoW0k8cgwACCCCAAAIIIIAAAgiUuEAq9ePDv4nbSF/ZUO3PE2if/l25c2/2yZPvS7w/qB4CCCCAAAIIIIAAAggggEBRAk+efH/n3uzTvytFnbW+g3+GQLuy8uzOvdnvl35YX405CwEEEEAAAQQQQAABBBBAoJQFvl/64c692VcwTvszBNr78TnGZkv5xUfdEEAAAQQQQAABBBBAAIEXFHjy5Pv78bkXLGTN0191oH30ePHh3x6vWS0OQAABBBBAAAEEEEAAAQQQ2NQCD//2+GWvEfVKA+3KyrPY3VlWgXv0cowAACAASURBVNrUL0oqjwACCCCAAAIIIIAAAggUIpBK/Ri7+3InHr/SQPsw8Xhh8UkhLecYBBBAAAEEEEAAAQQQQACBzS6wsPjkYeIlTtF9dYH2xx9/nIrNMDy72V+R1B8BBBBAAAEEEEAAAQQQKFAglRIx8Mcffyzw+GIPe3WB9vvvf5ibTxRbP45HAAEEEEAAAQQQQAABBBDYvAJz84nvv39Z33Hz6gLtw8RjFjfevK9Cao4AAggggAACCCCAAAIIrEPgyZPvX96s41cXaO/H5/6uvIqv1l0HMacggAACCCCAAAIIIIAAAgi8DIG/K8rL+/6eVxdo79xjfeOX8fKgTAQQQAABBBBAAAEEEECgdAVSqR/v3Jt9SfV7dYF2KjbzktpAsQgggAACCCCAAAIIIIAAAiUr8PLCIIG2ZDudiiGAAAIIIIAAAggggAACW0GAQLsVepE2IIAAAggggAACCCCAAALbUIBAuw07nSYjgAACCCCAAAIIIIAAAltBgEC7FXqRNiCAAAIIIIAAAggggAAC21CAQLsNO50mI4AAAggggAACCCCAAAJbQYBAuxV6kTYggAACCCCAAAIIIIAAAttQgEC7DTudJiOAAAIIIIAAAggggAACW0GAQLsVepE2IIAAAggggAACCCCAAALbUIBAuw07nSYjgAACCCCAAAIIIIAAAltBgEC7FXqRNiCAAAIIIIAAAggggAAC21CAQLsNO50mI4AAAggggAACCCCAAAJbQYBAuxV6kTYggAACCCCAAAIIIIAAAttQgEC7DTudJiOAAAIIIIAAAggggAACW0GAQGvpxZSSXEwqKWPLqqeJWDQ0NDmrGAeoqiqOsTxfTiaX9b3KYjKp/1gOsJya/QDFPEs8SFdGVVUlMT0SjsQS1o2WQpLJpH4hsdGohlZDo5xlW+GZ5Rt1S4pmRqcXjeeqqqTLlk02CtSI9GaaV5TH2yuv1dNwsBWnqkp8Yigcuhm3tktV1TWqoeHn6BGjegLNWvV0i3iEAAIIIIAAAggggAACW0CAQGvtxOS1A67y44MyeE1/4nW4z0zIfBvvP+J2lu/y1NTsKi+rOnIlrp82EnCUBSJGGZGA0xGIas+izWXOHW5Pjcez0+Xc8U7frJmT9YOzH5Do8Ttcu2o84sQaj6dNFqaqs1eOustcO2s8NbtcDvfRa/r104WI44/2J0ThYqOjMhCSCXO+21fm75oXOyLntGLdFY6yCrco/+g17QS9RiIixrv8LtFMUe2Khj65O9Hlc/p6jEMtBaqi+bKoqh1ltuMdZc6GvqRe8uSZyjKnCSXa6OuWxSkjAbcswV1RXnMmIukLqUa+HnFWngzLkqzXSjeTRwgggAACCCCAAAIIILAlBAi09m6Md/vKqk5Nqupi/0HX7uYRGYuSve+IjJTUQmkyHHCX7euVA5h5A23ziFb48uCRMleLEU2N64nYufqA7AFssa+hbHfzkMyHSujk7vImGdgshRjlykDrdle5g1FRe2v+lMfY65w+T2ThYHlZIKQ1UxkK1Pg6psXu/IFWz/OzF+uNmCqOr/F4HLUds1rpE627xVMj+VvamOj1O/de1NJ5KtbV4Gke1Nq4djXy90iV213VorXeci1bQ3mCAAIIIIAAAggggAACW0CAQJvZiWJg1tfd27rbHKpVk/0HyzztMfPIWLvH6ftUG2K0h8OMEdrVedUsQsbO1QeIALa3Y8I+Vzl55ZDDI7OlVkBKMWYXi0DbOGBMJJbpWxuhbR4YbHRpybyoQCsOdtUG+yZm9LK06+UPtE03RG3j145X1ZybTB//SUdjmbd9RlVTk6cqd586mx7KtoRMJRLY7XAfbR+KJawXXLMaa/XIjcGmcm103XItiz0PEUAAAQQQQAABBBBAYEsIEGhXdaMSbXE7HS5/rzZNV+zOzISWgJc30Mopx+4KZ7m/O8+UY+sBIoClpxyfl5OZc6cyEWjlVWo8niNX5DRefdg28am/vLZjWow561OO9aba65zRfmVmsO3deneF01FR33ZTpkxLezM0RFFyyrFnZ4W3JSwrII+P3TjurDw7qY4EyivPTISzBlpVTSUiPYEGMZHbVXO031Raoxpr90ii1++q/SQ2a5nenNFSniKAAAIIIIAAAggggMBmFyDQZulBMXv2ZDi9QxlsLNt96qaxQQw5OhvlnbaWybGqqoZO2u6hbfhDODRwRp/DbJxt/C1i5+oDsmZXZbDJUWnczSsWUYqGonEta+rZ1ShT/m1sTMXFva+BQBGB1rKEUuLTfQ5XUEvUlonBqqrGu/eaCdmajW+frylruiGqpQdgZaipfG9379ndMtZmm3KsKubaUcloiznunaMa6Vt58/SIWSUtyTcH0vfr2pV4hgACCCCAAAIIIIAAAptegECbpQtFqtTXdpJ7lUiwylF7JpJQVCUx8Ym/vDKgL1+khBtdLt/FmJJSlVi3z+U68id5p6uRKlV1onV3+YF+Y30k83LZD8gaaFVt0Li2NapdP3qq1uk+Kyf3pgsxy7VNZo511FburjTzpzzIjHyWc+RDMbe5MnBDuz14ttMvUrS2Y7bT63AHQglFTSVDgSqH+7x2b62qLQql3UObUmb/1FRZduiaaKcxopuKNrt2V1ZqE48tF7W0UXw04OsUemoy3FzpPHhFnJ+jGkaxokq5e8RyoelPvJWVu407e1e1lg0IIIAAAggggAACCCCwyQUItFk6cFWgFcv/Xjvu3SGW6nXuqG0yFhkW5yo3z/t2uRxiV8Xec5PGraCWqCnXl9KX3TUvl/0AcWntKvJP/SZbMS7a31hbIa9Se9ycmisKSR+vLx1sKVlVJ85WOQoOtNZmWqYc25pfXmOusSwDrVGBCm+jvvhzOnlOtO7Wl4ay5ExLoLXqWaYcW7Qt1UgXKxAtx9h6xHIhcfuu20mgNV9zPEAAAQQQQAABBBBAYIsJEGg3qEOXjSS7QeX9vMUoli+VTdckpSgvqZWKkvEltPKi2auRrhCPEEAAAQQQQAABBBBAYFsLEGi3dffTeAQQQAABBBBAAAEEEEBg8woQaDdv31FzBBBAAAEEEEAAAQQQQGBbCxBot3X303gEEEAAAQQQQAABBBBAYPMKEGg3b99RcwQQQAABBBBAAAEEEEBgWwsQaLd199N4BBBAAAEEEEAAAQQQQGDzChBoN2/fUXMEEEAAAQQQQAABBBBAYFsLEGi3dffTeAQQQAABBBBAAAEEEEBg8woQaDdv31FzBBBAAAEEEEAAAQQQQGBbCxBot3X303gEEEAAAQQQQAABBBBAYPMKEGg3b99RcwQQQAABBBBAAAEEEEBgWwsQaLd199N4BBBAAAEEEEAAAQQQQGDzChBoN2/fUXMEEEAAAQQQQAABBBBAYFsLEGi3dffTeAQQQAABBBBAAAEEEEBg8woQaDdv31FzBBBAAAEEEEAAAQQQQGBbCxBot3X303gEEEAAAQQQQAABBBBAYPMKEGg3b99RcwQQQAABBBBAAAEEEEBgWwsQaLd199N4BBBAAAEEEEAAAQQQQGDzChBoN2/fUXMEEEAAAQQQQAABBBBAYFsLEGi3dffTeAQQQAABBBBAAAEEEEBg8woQaDdv31FzBBBAAAEEEEAAAQQQQGBbCxBot3X303gEEEAAAQQQQAABBBBAYPMKEGg3b99RcwQQQAABBBBAAAEEEEBgWwsQaIvv/qcPxv/8vx+e/b/eE//yj//+z/LnFyd+9X/OBv/nz7fuPy2+QM5AAAEEEEAAAQQQQAABBBAoXoBAW4RZMj7030H3Pxkh1kyz9ge/+Jfg+YH490WUy6EIIIAAAggggAACCCCAAALFCxBoCzN7evfTj3+1VpTVR2u1fPsL78d/nNpyo7VKMqmkChPLcZSyqOTYw2YEEEAAAQQQQAABBBBAoDgBAm0BXt9dPXbCElZ/4973h/+9MvUg+cOKebLyw/f3p67+zx/2/8tvLEeeOHHlO/OQn+tB/Fow2BLsiCRftALJPx0tL3OWN4XXHUmnz1U5ypy1nfEXrQrnI4AAAggggAACCCCwboFk7EZnU4PHU+PxNBzvuBF74TfK665JrhPnw+3iPXywfSRn3ZKxwfbj+2o8npqGpvahRGZJqUSkJ3iw3lPjqT8Y7JtYVcxapyenBzoaG3Si0Hxm8ep8tCt4aK/HU1N/qKVvMvlig16rSi9iA4F2DSzl3v/uMzPqb3514spf//Y87ynPH49eOfGv5rTk3+z/n3vp3Jv3zJe0M9pc5nSU+btWvwqLvKASDbrLXDXnJos8L3144lN/eVnFkT+t+n1KH8IjBBBAAAEEEEAAAQReooAyEqxxOR3iHbL54/L1lNCIy2zfUbOGvp5VSVWzmf103450/UVD3IFoethpOdpS47I00Olw+bssTVzj9FS8950K2+llVc0j6eJXG5b7u2d/pkxLoM372zL/x3SaLWq41Tqo+5v9n75wmMxby/w7NyzQ5r8MexFAAAEEEEAAAQQQKHmBeHut01Hm8l2MyTvpkjc7fCLf7utdLIm6Jz71O8qcO97paDssYmr2QLvYf1DUuao5rA0UzQ82up2Ost1m5pw4K+ZF6iEzlZz4xF9e5nT4uvVwvNbpySuHxPHuQEgrPjHQ5C5zOioDERlpU5OnxOVcvotaRE5OtvtFeM5e1ZePSqDNbfzjg0//05g/fCI4WuwNsU//+l/mROX//OP9H3NfqPA982F9XoF95kDknJgMcOSK+flNtE3MoDgfESUbgTaeCLXKOQmB3klzjNQ4cjnWdby+xuPZe7xffLiSCLe9K57WNJwJGaUmrhwVW85F9fqmEiFjqsbed4OWMlW1wHqmkhN9ciKEJ6ME2aK2qJoYOqPNBtnXnH8mQ/qK+xo7wwnr50PpXZbpFrEOn2hd92waP3ntuKfG4z1l+fApvZNHCCCAAAIIIIAAAltAINHnEwObAe19st6e6Sticu+1GaN5lne5Dcc7bLNt1377mox0iom4bfIts7WoQHfEeF8trpRKTIzEVs/UTfQcPdITU1Q1EsgZaBM9IvRWtqYnTib79okB1eODInKmos0ZET01earS6SjztMfEldc4XU10+UQ8PnXTAFGTve+IyjRqxasjARF33+kzE4V680xlmdPh6Zg2z3iFDwi0ObH/NrBfX774N4GhYtOsLPXp1x9+oEfi/zPwOOeVCtwx36d9elThbmhqbKgScwzcgciyOHnVy12GWPmLKh97fP6q8l2eGrecPFDROCQ/YJF79x084Nrh9uzUZl/Unu1ucTvNpw73mQktH8qXviMgfzsTvdonMTvc+xqP73NXaB8RyShYaD0T+kyGiqoaj9acsvRkD9miI8ebyssq3Hqdne6z6V9aq5kSPaPNynDtrPHU7NImVxgyas7KyA/n9N9qUdpiX4P45ElvrLV8HiOAAAIIIIAAAghsFQEZ7Vy+T3Lc9qlET2mTdcU755pdIrmlZ9uu/fa14YA2tlnmbB5RVaOoHW6P/nY3Pe83ee2AiIhZFpcxBmZWvcM3e0C5cVyc2xw2t6jqfLcI6q6gCOqxjpoyp2OvdeTGyAufJlR1rdOVwUYt84eMmpgZuDwogsD0Jx5HmXOvHJ7Vq6APofVaE7uldi/1IYE2B+/K1x/qt87+64d/Wf9NsMpfgv+fvJ/2N4Gh9RcjKinzpPnSmf000BjsCM2LXLrq5b460DorT4blJ0DJgSbxm6knN3mkkSSXw83iwxunPn8gFW0RT10tWoa1BVr5O2P+nsT7mo8H24cSSsH1VIa0avg69Nn28W7rZA/ZIoexNzkUEJ/6yF/RzB6T0XR385D8kEiJBNJLT+VBm+30OsqcNZ9on1OpqvxYqzJHZs68Js8RQAABBBBAAAEENqeAMhIQE2jFjxgoauuJzsqBHq058i2i+c5ZP7i2Y1ZVC3r76m66YdxsKIvyGeuh6kXpA5tKJFjlKHMdvJIe5szgXPUO39xvjKDaxnos7/9HAqJ1B/qtRct3xdqs4LVOl+/zK89MmBdUVVWWqY1syYrZay7L3IBVe6zXLPAxgTY7VPLP/yaHZ//p7HXrSyH70fatyZH/HTBex6r6/cDZX8ii3v3zC305bfLKITEV3hvsvRlPagOz5mVXvdwtL2h9yrFlKFKVn0vVa/eFyyPNF1/ma1GWLD5hMpKqPkKb7D8oEqa3pW9y1v5NPAXWM3RS/Duiz1vQWhIJiMFV+buRt0Vmu7UH8e69GTMcUorpk6cy+pCsPjVCzqPwtptTTewX4RkCCCCAAAIIIIDA1hHQVuitlTP7tDHYI1fkiknxrr3pqbmyvea3Thby9tUcfFJVWdS+rlgyuSh/oqeqxGxnc+RTsQTp1bar3g+bh8h37Na39+ZthlrhMnzK6cfGSZZhnrVOl4E2Y/6wLPOkGBSWFbO+jVf1WcoyXxiXfFV/E2izSj827p791//+NusBOTcmRwJiieNj/3bFzLTfntcHaf/zj3/LeV4BO1Lxa0c92rQHEQXLd3kbten15qvKch/26kB79EY6A8sXsTYRwrzDVq9twYFWVWevpJdfc7h21R7vnpaXKKie1jrobbd8bpR/zNluJX+7zHvc7TvV3JVR9ZsBtH8L5Hxj7bO3jAJ4igACCCCAAAIIILBlBZbjkU75nraq7bYZC83BHmu71/f2VQ4FW//MWrj1QvrjPIG21y8KlGNO+tFytEneGxwNishgf3s8cXa3sW5TYo3Ts91mLEeJ5MhWJLh6CSg5YFZo07K09gU2EWiz4X1//Zg+Tzg4WsxiTnqa1c79hTm0++Nf/0ufvXxs4IXGaLWqLiemR/raTx6Sd40WMJ6ZMQarGh8X7T4lZilk7C0i0IrapJRELNrbGTgo7zSwTmxYo55Z5u5bfs2KCbTZbhLI7NRslVFVVRlskrOO5a9og+XO9swSeI4AAggggAACCCCw+QWU+cnQUDh02zYF0xIdY+0ep6Ms60hjsW9fZVGHeuPmCK3+QK6uvKalpVaZx8q3zeatc2K3XJZJhlg93DbdSI8Ay9mILpmB1zhdn85pGwGeaDXzsKqHW+sIsBwccgUilttuMyv90p4TaLPRfnP6n2Sg/YO+dFK2gzK32dJs61XLssYrQ3+QS0P94r++yTyr8Oez0XBvZ0fEWE989mK9mByvTWSXY5uVJ8P6izbWUavdyW1Z5di4LVa7TVzsdTWFxNHrDLRKPBrq60h/0bOc9ys+E1Ly1NP6a5lZ51RMW0Jdxuy1Am0qOT0yqS9lrC/jlv5mLWXg6A63XPM5X2WEvBJudDkdvo52cWP9oWu2f9kK7xmORAABBBBAAAEEENgkApPaerzmAqJihCauLepr3vimDT+aKx4tDx6pqKo53J8w7r9Lv+Ve4+2rEmpyOcpc6am5qXhkIDwxY6TMHKscm47Wd85i4/xkJGa8W5Xx1WxFKtF7QFTbWGJKj6/pL9e9eUbcNqy//zfSb87TVRlf019sm+jTviXIuDtPj6/pt98Trdq3BDUZYcRswyt5QKDNwpz88pi869V7+a5t99O749/ZNphPcqdZccj9y7+SBR77cv1DtPK28nJvoGsgHBroOKJ9+5O+WPHt89qt7a6d/qaW4/6dbr9PfLZkXeXYW1tbsfd4sCXYtFesSGyuGLzOQKvOaJnZ5W3uGQwNDbYfTr+I89TT9mu5HG3WmlB7tKN3oLu5Xiy/XG6M8dqOFISynvoC6/JTpXLjd2a2R/tmrYr65p7B3nNy7NorFyXPUxnZd9qNu65yl9MszexTHiCAAAIIIIAAAghsOQH9qzocFd6DJ4MtJw/pd9K6g/qXrOorlVbsDXTf6Dsv5yHWymVEi3v7qqqyKJfn4Lm+0FBfW4N4w1wZiGqJNvcqx4a47f2wPuhqREpVXwa1fJe/MRhs1N5IO8wmiBmZcr3Vitp3Ay3G1E6fWOJY/rfW6UZLRbgw40NQ1lyUYLz9FobNB7SbIl3+XvOOS+Myr+ZvAm0WZ/MLe2zftfP01n//7hf/+Jv9n67KtPnTrKqq2QvMcuW8m1LJyDm//GYdMTZb4W3skzevi7PMO1rLdx1qvx3TPmeyBtpAKN5/RJsY7CirqA0MGt/Uut5Aq6rJ6Hlf+k76itrjffp6xbnrafu1FMtMhU/55WLoYpW5dAnGveY57gpWE5+KBGv5Fh9luqepVgvqIhXXHO26bX70lQ9NwMnPt8pcxvcY5e0CdiKAAAIIIIAAAghsdoFUItRqeVNdVlH7bkfEGPsUc/hudzfWyq+6dDpcHvmtsHqji3j7Ks6wFSXe7vbrb5jVIlc5VqItbqfDdeiaMVtTFa2oF1/kKX5cO/3nrU2Qlzbe/GcGB1GztU4Xb9RlThZDu7t856L2r8xVpnvS6+nsqG3q/fmWViXQZvmNzJY/H185rS9WnJFpc6XZlWfPFhafPPju4d178anYzO3YvbFbt7689WBh8cnKs2dZrlrwJmUxmUwagc1+Vv6l0sQrezFZ4Kx9e8G5ny2LmwGylpmnnrbilJwl2A7LeJKtqeKK6bWvbCcUWhnbSTxBAAEEEEAAAQQQ2LIC4v1hjvexos3iXW72t9xqsW9fc7xhzvZ+Nrd2Ssnyljul5GuCbEWO4CCutObpoqU5ELSaCsN8+3M3Z+P2EGizWGafcvz0r/91Qt4K+89mps2aZleePZt/+OjOvdnEo4Uflp8+f67fHP38eeqH5aeJRwt37s3OP3z0grE2S73ZhAACCCCAAAIIIIAAAghsJwECbbbezrUolD3TXriifUOPXNPYWAXqSXJpKjazsPgkW7npbQuLT6ZiM0+SS+lNPEIAAQQQQAABBBBAAAEEEChGgECbTSvP1/ZYM61cCfnf//kXRppdWHwyM/udoqxkKzRzm6KszMx+t2b0zTyN5wgggAACCCCAAAIIIIAAApoAgTbrC+Hxp/8pZxf/639/u+oAe6Y10+yT5NLM7HfmBGN5mjIfiwyFbwwMhoai0/OZE8yfP0/NzH7HOO0qYjYggAACCCCAAAIIIIAAAmsLEGizGyX//G/yi3b+6ex1y5pnxsFGpjXT7MqzZ1OxGevYbHKyO72wmL7+mLYA76StPEVZmYrNcD+tIcvfCCCAAAIIIIAAAggggEChAgTaHFIrX3/4G32Q9sO/ZJtC/PSv//XxH+//qJ8+//CRZfKwMnHWW17m3FF/5kYsoS9HllISsUFt8WtX7dlJ61jtwuKT+YePctSDzQgggAACCCCAAAIIIIAAAtkFCLTZXaxfHvuPHwRHn+Y8TFXVlWfP7tybNY/QvmjY5buY/pJYc5f4wtiL/vIyl6/HtvfOvVkGaa1KPEYAAQQQQAABBBBAAAEE1hQg0OYm+vGBcSftP//jiXyZdmHxSeLRgl7QYv9Bl9MdiKbHYBP9RzxHryXMCymRQJXta5FVNfFowTLAax7JAwQQQAABBBBAAAEEEEAAgZwCBNqcNGLH/B/36ROP//kfT5y48l32gx989/CHZX0Md/oTj8PVFErHWVWd7/aV+bvmLecq4UaXs+aTmLnph+WnD757aD7lAQIIIIAAAggggAACCCCAwJoCBNo1iJR7/5vOtL/51Ykrf/3b88xT7t6LG4sbx7v2Oh0nw7YjVgdaVQ2ddDr2dpvTlJ8/T929Z5uEbCuBJwgggAACCCCAAAIIIIAAAqsECLSrSFZv+O7qsRNygSjtz9+493X+cWDqQfIHfbEoC2K0uczp60lPLxaFiUBb3z5jKzfR43eUBSKWbZZCLFvtD5e+vXr6UJ2vru7AsQsR65Cv/TDxLHH1w6arxjTo1btzbJnu9L3xwedPxN6VpaWVlHGYeGI8XvPvxNUP6y6M2w9buPrBh8VXRy9jsvNA3XuX71tKLL51C1c/8NUJOv2nSBybhro0c7XlfVHUe+0hSzckhi8ee1v0zsneKc1Qr/H961qvvX3iwvCCSaqqS9HOE2+LQk5fnU7rLk1fPvm2r/DqpeYjF44d0Cpz+ur0kqV8i5f+cPzjuos3V2/Ov2Up3FRdd2FaHJRaWTJvJrc+zl+A2LvweVO2Sy9Nf9bynuiRQx/ZXs85xNa+zks94uaFIvrlpdaEwhFAAAEEEEBg3QLiZkBPjfaz991A+5D9fbtebPLGUZf7XHo2ZUFXSynJ5YIO/DkPSiUjnYf2ejw1DYHe29Y5pWallOm+QIPw2XdKx4m2GWLSreZcVB49O6Af2dwXk2UlrhzVj9FPMe67XI71BvaJXQ1nrG+fzau+yINCYtT6yv+H9Z22jrNeXhvSlXl699OPf/VP/26JtZbHt2P3jCOzBVol2uJ2OtxNNyy/L+sJtJMf1XmbP5ueX3qyNBdqbag+9nmewDrfe3hfb579RoXtf6eWZibva+Fq/vK+/ZeNsLZwaf/hS8YT+xlZns33Ht7dmhloiyrBXujUGe+JI+81XLQk2uJbt3Bp/2u/vb70ZEn/KSKgi88kbBq9+9/c3zk1v7Q0P3lpf/WJfo35abTN6w0O3Be9M9Bc5/1oSmbLpaFg9f5Lk/NLT+6Hf+uta43q2fVuZ4O3OXxfL+Rwr+Bdudv9/p66079977VC+27h8yPVhz+Ozj0R5Vz+D2/dR5N2PNuz8d//8vSIbUtBT+Ynp+RLd6T1td/r/36p1sdrlzJ/ed/qS2uVb59ceLK0MNl5uLo5ItNyLrG1r/KSjxhpLbhfXnJNKB4BBBBAAAEE1i0ghpqabiwmk4vJ2ZvdzTUVB6/YvlNTL3h+csLy1r2gq40EHAHjnVJBJ/wMB01/4nU3Dc4uJhM3O3wVfu0dqK0aiU/9O/wdE/PJ5Pxku1/HUTSupPZn5GxV5VnxhjP5p6Orj1QVAav/xPsOlh26JnST1w5U+D6ZTOjXtd+eabv+ep68vDC4tQKtZpuMD/130L061o7dupVvyrEYLx1stGfadUw5Xri0/0B3OlUufDs8oyWpQzs8LAAAIABJREFUpWj3peiS3vl3r7f1a8FPi3wz969fam1t67w+Z+yf62/9fHoh0tna9vHVmSV1JfOA+5+3Xp9Tl8Yvthzes+fw71ovRZeWot3B/Xu8+1vaLuqXWbqrFftx73i6OkZRH1+d+TZXoJ2eG+hsa229NCAz89J4d+vn2sifVvn58MfZhp1T0dNvNIfv9h7e89GU+Qq3BtrU0oxW7MVLUTn+uTDc2XZVL3flZm/bZTH+KQKtGcbMclR1YaT3Ymtrm70t+sbO6zNioNWmoar3L9XVXbprFHG306eFz5XB5tdODhkDrSvhk9UyOi5c2u89Y4TMp0PBN47JAfDx31e/bw5Z3+9u0Fq3MNgdnldFViw00EZP726JmKOyS/fHo/OiDk+il4zOUlXZp6LCItAOL4xfutDWeuFy1Pi4Qzt47turF1tbLw0vqKnMA/QX2N3rbcd8r/36WFvr9TnrYymRmteKFZ2bHiVeuh/ubG1rvfDZt9PZAu3kxbqPxvXKL4X/Q0+8ucQMce3v+ejlj1vbWjvDd41XtqpmfVmq2Y7MtlEozSS0Yj++ah1gX4hqr5DO4YVhS79kLdas4hPZcLuGDiuQZ/rFb5Z+eP6izDJ5gAACCCCAAAIbIiACrWWaZDjg8PclVDU50tE+Ep/oO9/SGU3qT5NqMtoV7J8232vND7b9ISxzbmKkuy0YbDnXrc8ym+lvedfrqD3UEuzXbyqcj3adC7YEO27EsgXmVHJ6oKMlGGzriSbM8lOJSM/5lmCwfSCWzLtx9k/Ba7cToc5gy5+0mxZXn5hKRAbCsxkjxqlos2tf76LuONvpldHU4hpr93jazZHpWEeNr9uW65cHG40SIgHLvNRwljA//Ym3slW+DY62ec4Yb1mVG4edzesYYrHUMuMhgTYDpICnTx+M//l/Pzz7f70n/uUftXHa//+rG/kWhZJFykxbr903u65FoVb+3Py6GKE1cohRU9vwqTluNt97eI/3QFN3ODQcvvhBnbd1XBv+Gv/9L73+1svRaOTiB7797334u97xaPTyb72v/1aGsehpMbi6Mhe9erqu7vTl4fEHKysPop+11Plarka0sLQy0urzt34WjY4PXDhcvf8zmWknP6qrfu/iwHBkoPvDt73ebCO0Xu/bH168Hgldv/Qf+kDl0tX3XjdD5uRHXl/3nNEo82/RahEU5y/v29NuTpdNB9ql8d/XNbReHY9Gwx/vf3O/Niidmmz3etsnxaTe0979lx+IwrIG2pmLb78p23K1tcEYIVzqP/bm/gvj9+dnrsqBVpuGqk6273lblinKfdB9QGvsUv+x1343bFY78rtfyjHtyO9+eTq9eeGz/dVt4pO7+ct+SyFqtO2N/Z+Z/1oUEWjvX/JpI7RGktYrkPZRVVX2qdgz/vtf1r11rO3qcCR0tc1fLYeFVe2l8uHHw+PRq23+t98/8kH7QHQ8dOHwG75L2mcj+gtsYTrS/t5r73VGQtNL1sdiKvL85f11H168Ll9L+ii06IXq9y9oPd70dt2e1SO0ppaqPo2e3vPeZ9pLO4eY5eCF6yeq97eP3F+YvhqUHa2q2V+WD3oPV7+ttbf39Ft7PhzQLpB1o1DyHmgRvy+ftb79uvFSFC+Gt1ouh4YjV1tPvOXVP2jIVoF0/cQIs1fTGL70H15jZoEYjvb9rjciyj/m8+ovDzV7ZdKF8QgBBBBAAAEENlggI9CO6IE20eMvr6hv7hkMReOKqiZ6/NpdhMned1xm+po4u7u2UwTI6c76Hd5g70g00hesrdDGGxdjoT/sc7xzPjSk5dd4t6/maPtANDLS3eiuarF8/4lszsTZKndT3/R8PHLWv+NAv4i8qXiXv6I22BcaCned9Ow8nHujqkYCzvKaQ2194dDtpHai50jnYGQk2tVU5Q5qF0v0+cqq2m7b8eLdey2L+KjRYLkW5i0HTZ6qrO8yF/aJd++1hn9VFQO82vCsqqrKUNMOf/dsSlVTyRsnqzIHupcHGysOXTPCc/oSSrS5Mh2q09tf4BGB9gXwjFPX+Noe4zA1PjktPiZZ/9f2LIQunPh19WvV3vdPdpr3HOYMtG+0GsNfK+GTvzzRL0aEtDE6WaHo6d3GpOL53sNvyEnCZvixT7JNTxi+f8mn5xwxdnn1Pa+Y4yrK/3DAGHEaaX09W6BNZ9enQ8Hd2kClGLHUJ5pOndmTHrE0xUTJ1cE/i7gmrmUOdZqB7X53g5E9VHXhs/f2iByrqurkR3X7uj87U2fOlBaBttpr3kOr39CbWjHuE06PEI63Vr9vTtbWPxuzaUx95K377XUxGrxy//J71XpjtZBz6VuBsBRq9b1RrV06c6qtMenXgi+qays/+whtamF8YNgcaU8LPZn+rGW/541qj+9Ym3kPrekjjjP7VPS+CaLe7fTJQe/53sN+/aMEa+wXB2sO6ReY+XGJqg0jGx9GrPy5+U39AxFVTU227xGdK4as/+O6HrTFMHueQLs0/ntvQ7uWngWF7UhDLN1iNdr6+nu9+t3Iegdlf1lGfludflkmpqcerKjqim2jMTauKTWH9TuEJ9v3yF8NMRp/8Vv90gJHjpxnqYClemLuuPEBw7cX6uQpdzt9dRdm9NoufPae7IhclbGXxjMEEEAAAQQQ2EABy5RjOavW96kYVUj0+K1fQWIEWlUZbCpvCosbRFOTp8wkllIU/X/rlvHG9JRjJdRU0Thk3KF680yljKzpViR6/btbzOnJWlHKUFP54UH9nFRi4mZcSYnQmN6oxttrd5/S3utGAs5G41gRLGUN9UrKWb7pi6UfjQQc1hHX+W6f9al2nJa0B8WgsRLreqei3BpoMzJqKhlp9TrKnI4y584DfSLZWv6zRl/LZpGDai1f9WLZtf6HBNr125lnrjx7dueeuWKxOtvjLy9z+S6aH26YB4oHsxe1vT22vXfuza48e2Y7Ls+Tp/enxIiiPjqazhvWmGGLNGJ8UiYZSzywZKr0Xa9m+LFFLPN07X1/dZ25tFJttTaP13awGPHLFmjTUSqd38Qb+uDgiioCjz4X19buJ9dP7H67bWA4EhqO9LbUGelXXELmhJFWa0ytq05nofHWPa/5u+eMXy2RRqz30MrE8WT6s4+b36+rq9uzx2Oe++D6h29Vv1n79okz5pxqewNTC5Ez+z1v/PLN2vcu3ryujWmLWq982xv8dfVrb+xpOHk90i3BRdS33La69PkR+fT+pTrj0wRxqpmgtNZnHaFN9B7e7TXDlU1J/OO1sjAtxgP10VHTRxxn9qn2cUZ6goex3XJwZqDVbpxO936OQLtwaf/re4zVturqPG+IpqXPEnXIjKmW+os0W/f7YWOici4xyxmp+c+b6l6v9h449tHlETlDIHp691ovS70Ae1cKHPnCMzT02sresW60TAXPUgFL9VR1IdR5+tjbvrf2ePbsed18oRr5X36uZHzeYX0ZmJWxlcYTBBBAAAEEENhIARFoK9z6kkX70qsZ6UOy+qXMQKuKmZVNNxRVHQmUm7k0Odl7rqnB43Hv2rWzwphAmw60iS6fa2eNvvRUTc2u8lW5Ubl5fm+Fa2fNvsbOwWltSnL6ipbWZmyMBJxyIDQSMC6qRfHyXca1PJ6dLvvXhVpKUzOmEE+eqVxVMTWVCLX6d7qcO9z72m4ONlsCbUZGFdE3EBZTo1PJiU/86VCtqmpG9NXrINKsfoq1Vi/8mED7woRaAfMPHy0smivbKhNnveVlzh31Z27EEvrnNyklERs8VV/hKHPVnp00PrERJy8sPpl/+GjNetgX2lVnLnhlRLQlh+EW/U5Ry7Cbqqoz7fpY5UYEWnMgy6yyNh/YuFHUnIVr7pYzfi03AFvi3M2PvEeuL1iH+CyniTnJ/g/aWlvlz4lf66O1tkCbvnPVeuZQ0Hvsw/11+oBt9inH9y/59gT778v1ocRM13TYU1eWtE8N9DWfbSnI1hF3O31Hroth2ZR1JeiV8El9rHjqoz3pJC9GL+XU4qXPj+g32YpKL1x9Xx8h15qQNdBaGpd+aLuoqi5d/1B+lGDJqGpq2IzcovfN+c9inFwblrccvO5A69PHV9NVE7fCpleomr/st/Gax81dEhPFzc8dVFXNIWaeYTxYWZqbvHr613IMNnp691ovS/08+2vVRLDEfsuAuT1hDrfY7m22VcColaqKSfL7Lkxp9zKL3wVzUFe+TrQDjRnpuSqTLo1HCCCAAAIIILDBAhlTjo3SM6Kj9elE6+6DVxKWQVcxUtr4p3hSe0MfOmlkS1ugtdyJalxi9d/KfCz0yaFK9/lpLZeuuqNVjBtbNio3juvXygi01rHl1VdJb0n2H3QFjHtZ1WTfvvKgOUysH6Ukk8bgsyoCsJnhMzNqtMWanJcHj+SOvrLo2R6/PkU5XaGNeUSg3RjHlWfPpmIzimJMNVTV5GT3kRqXHIU3/yyvOdo1absvXFFWpmIzhQzPTp3Zkx7IehJt9+npbqF3/+snr4sBrtRS+KQcMlW1YVLv6RFtGvDS8Ok9+jzhYgJt+iZPy3pUYkzVTGgz3c1t2sLbcxd93t8Na40XA26vZRuhfc3bOq5VZ2W4JX27rMh4HwSNJZTsnbHw2XuW1Kdqs1hlKjAz2FOxhrB+R2vq/uWTrdpMbHG/olh8+EH3YePmYWtUM65iuRtWEMnEtTT+8TH9u21S0xfrZP6cv7zP1NAE5JLLqYXPjlUHB7VWicmrLRH5jUc3P2rwderzS+93N3hb5fa5S/tff++qdrSIPW/ulwPIQiw9m1oOs8sUZFQ0598iCe83v9Bo4fIx/ebPRO/hN5rDWmWWBprNGeDjv//l60Z6nOver984bWLaY785Pzn9iclIa/o+YetjrY2yc9WlofZj3VMrqipBZI+PtNbtzhJoV6dZ0dIcYibCUvTCiQv6xyczF+q0edFrvizVue79dWfEEtOW16oqKmC7e1xexPz8QitWrsQm7hOuloE2WwXM2qnWu6nnuo1Zytoi2KdD4ibepcnOw2/oc79zVCZdGo8QQAABBBBAYIMFig+06uSZysNNjRVmFLTcaLocbq60BNqTYVnb2U6vO6DfOKsMnTl40Taaparxa4cD1+T6KcuDR1xB8V2eMx21lYGQXMYp3u1zByPKqo3yfl3tHlrzzl5xojsQkScuh0+92z2hqGrWRaFUMRdan0a6HG127z4lV6hJRG8MiTuHVXGAy6fdJ6ymEr3vVpgTmzOGZ7WFi10+Y85pcihQWduhT1jNjL6i3JeXZsVwSMz+/agb94rZgqsc58d5klyamf3OWO5YP1aZj0WGwjcGBkND0el567isOOD589TM7HdPkjLj5C9eVZemLx3Z8/obe3x13jff2HP4wqSenp9OXnxb3Fjre+vYZ92WEdp9Fy7/3ldXV1dXXf2+sSZ3wYFWnet9781q7+Fu7c7GB73vV1fX7e8WL5Ylcbk3a+t8tdVvvn1hStY9Nf/Ze9Vi3mmt78MLrdmnHF/oPf1rr6h89XufaQs1yQbPXfS9tsf4khurgbyz15gzLPaIe261pYMsGWzl5oUD1WK6aV119QHNRKQUYzRMxJjfixiTLdCqc/0f+PZoN9buv9BurLK7ukBVtWtoAq/v8Xre0K+oN6T/A98b1XW11a+/9cHn1gb2f+Cr3iO4ft2ir4snTliauvD2m9Ve355qz5HuGetLoPARWlVdGGxpqP6l6I491W/+utm47spU+9tv7q6ue6vuRG+3bYS2u/f92jrfW3vefEv/fCE93G1XyhJol6Jtb1V7alvE9+tYH6uaZPUeX12dp7ruw3598WvxEtJerg3/ceG0/c5YASAmUf/yNcuP+UGJ6JcsYpI5xyswx8vy86a6N8XL0vZazbIx+wit3kzt1f72xY+a9RHarNcyaqf9guzxvFXne8v34Uct+gitaO9wu/Yl0u+fiX5m3syszV7OrKFZFA8QQAABBBBAYMMF1hFoxc2rTmPBXlGh2StHa3ZViW9V9Z8/Za7ZuxxtqanY6Q6ERJ6MXzvq2bHLU1Oza0fN0Wu2ew2NEip21Xg8Oys8R67ou0WxYmPVjor6tpt6cMi60TpCq9cno7Ssi0KJycCTbfUVO9yenRW7DnYaXx77qd+hjRKLmmkHlO+q2umq2HvOyOHZMqqaCJ+qrxCznd0VO2qbzDauir6qKiojbrU1f7QFtzasawm0G0YpJw/PzH5nHafNU7qirMzMfmeZqJznWMuu1MrSkyVjKSPL9lwPnxZzcK5CVm+3TrA19xZwrZUn6UFsed7cRZ+xEqxZUNEPbNOAizo7Y9auce7KmsjpBaWMc7S/zfWAbFst6wTZtucoxHZMAU9WlpaW9AWNCjg6R5MLOHONQ1Z3rpiJXXjF7MXnktSPerqU5buEs74sV7LhZN1or4D5LPurK2sFjHOynGL5aCbyO32RNv3wYipjXIG/EUAAAQQQQOBnFUiJyblr1CClJDO+OMd6QkpJLq4qofCN1qK0x8rq0lYdo29QVl0348j0qlcZO1Y9LfzIVadu1AYC7UZJ6uU8SS5NxWbWjKkLi0+mYjOFjs1ucB1Lprgnk+GrFw5XH/s886uISqaGVASBDRFYmbz46z0HzlyNyK/Rqv6A1/yGuFIIAggggAACCCBAoN3418DKs2fzDx/duTebeLTww/JTcxLy8+epH5afJh4t3Lk3O//wUSH3zW585UqqxIXp8MD1KX2CaknVjMogsNECqfmpq51tra0XLw3PmOvHbfRFKA8BBBBAAAEEENhuAgTal9XjK8+eLSw+efDdw7v34lOxmanYzN178QffPVxYfEKUfVnolIsAAggggAACCCCAAALbSYBAu516m7YigAACCCCAAAIIIIAAAltIgEC7hTqTpiCAAAIIIIAAAggggAAC20mAQLudepu2IoAAAggggAACCCCAAAJbSIBAu4U6k6YggAACCCCAAAIIIIAAAttJgEC7nXqbtiKAAAIIIIAAAggggAACW0iAQLuFOpOmIIAAAggggAACCCCAAALbSYBAu516m7YigAACCCCAAAIIIIAAAltIgEC7hTqTpiCAAAIIIIAAAggggAAC20mAQLudepu2IoAAAggggAACCCCAAAJbSIBAu4U6k6YggAACCCCAAAIIIIAAAttJgEC7nXqbtiKAAAIIIIAAAggggAACW0iAQLuFOpOmIIAAAggggAACCCCAAALbSYBAu516m7YigAACCCCAAAIIIIAAAltIgEC7hTqTpiCAAAIIIIAAAggggAAC20mAQLudepu2IoAAAggggAACCCCAAAJbSIBAu4U6k6YggAACCCCAAAIIIIAAAttJgEC7nXqbtiKAAAIIIIAAAggggAACW0iAQLuFOpOmIIAAAggggAACCCCAAALbSYBAu516m7YigAACCCCAAAIIIIAAAltIgEC7hTqTpiCAAAIIIIAAAggggAAC20mAQLudepu2IoAAAggggAACCCCAAAJbSIBAu4U6k6YggAACCCCAAAIIIIAAAttJgEC7nXqbtiKAAAIIIIAAAggggAACW0iAQLuFOpOmIIAAAggggAACCCCAAALbSYBAu516m7YigAACCCCAAAIIIIAAAltIgEC7hTqTpiCAAAIIIIAAAggggAAC20mAQFt0by8vP40/mJv4Zuqr0bEvQl9f/yLMDwLbWeCL0NdfjY5NfDMVfzC3vPy06N8oTkAAAQQQQAABBBBAYL0CBNoi5OYeJkbHxr8cHr01dWf+YWJp6Yfnz5//VEQBHIrAVhP4SVWfP3++tPTD/MPErak7Xw6Pjo6Nzz1MbLV20h4EEEAAAQQQQACBkhQg0BbULYlHC1+Njo3d/ObR44WCTuAgBLarwKPHC2M3v/lqdCzxiF+W7foioN0IIIAAAggggMCrEiDQri397dSd4ZG/EGXXluIIBAyBR48Xhkf+8u3UHWMDfyOAAAIIIIAAAgggsPECBNp8psrKyujY+K2pO8wrzsfEPgSyCfykqrem7oyOjSsrK9n2sw0BBBBAAAEEEEAAgRcVINDmFFRWVr4aHbt3P57zCHYggMBaAvfux78aHSPTruXEfgQQQAABBBBAAIH1CBBoc6qNjo2TZnPqsAOBggXu3Y+Pjo0XfDgHIoAAAggggAACCCBQqACBNrvUt1N3bnH7X3YbtiJQtMCtqTvcT1u0GicggAACCCCAAAIIrCVAoM0ilHgk1rPhvtksNGxCYF0CP6nq8MhfWPd4XXichAACCCCAAAIIIJBTgECbhear0THWNM7iwiYEXkDg0WPx3VcvUACnIoAAAggggAACCCCQKUCgzRSZe5gYu/lN5laeI4DACwuM3fxm7mHihYuhAAQQQAABBBBAAAEEdAECbeZLYXRsnOHZTBSeI7ARAo8eL7A61EZAUgYCCCCAAAIIIICALkCgtb0Ulpeffjk8attU+JP5bl+Zv2u+8BOyHZlSkovJZFLJtm+bbdtAClnUYtGqSjKZXEwqqVch/7Kvpdw839AQuJHt9Zln14a3/Mvh0eXlpxteLAUigAACCCCAAAIIbE8BAq2t3+MP5ta/uPGGBNqRgKPM6fB1v7J5mUo8GhoKR+JFhz0b3Mt4soEUomucjrJApLh6Jrp8TkeZs3mkuNPWdfTLvpYSOulylDl9n2qvrMVYaCgcup3Uqmrfta7aF37Srak78QdzhR/PkQgggAACCCCAAAII5BEg0NpwJr6Zml/3PX6bM9Amevwi5/S8sgRtA8/3hECbT6f4fanExEgsKUebpW0gqpdi3VV8wUWdMf8wMfHNVFGncDACCCCAAAIIIIAAArkECLQ2ma9Gx5aWfrBtKvzJhgfamf6WYLClMyrH0VT59E9xVVVn/xRsCQavzSjTfYEGz77mvpiiqsnJvuYGz953g7235XBrMtIZbAl2RBYToc6mBs++xs5wwj57NjnS0ejf7ShzVvqbWoL9s7Kx89Guc00NnvqDJztuxPSLmwzK7b5T1lqp6vQVUZneSe2iydiNzsDBek/D8fNdI0ZITkbbg8F0+fKpbJfeqFgifP5gfX37bfM6qpoRaC0l905aapVKRHrONzZ4ahqa2nqi6QamkhN9wYP19QeDfdO3M0doEyPdbcf31dQfak6bGFzxWG9gX03TYFI1Rk3D2QEthQxOW2qkGlXd+26gfcDIkNlampzsa3m3XuuyWLbRYKNKuXowV08lol3nZC8E24f0XpCvmfaRpHghvesVEwFqD4mXR1J/OYldeV4AZq8lwu3H99U0NJklW/ps7YdLSz+w1vHaTByBAAIIIIAAAgggUJgAgdbm9EXo6+fPn9s2Ff5kwwNtRqKzjKpFAmIqrM/vLxczaZ2Ost3NZwNu/bHT4Tp0bVFV9Tzm8fmrtGPEkeX+7llLppXDs8ZebUZuvNvnEkfucFftEAW6fD0iQqf/U8KN4oBD12T8SUWbxdN9vYuquhxtdmtX2VW1UyvEHYiKmJsx41c+ldOq9Tb6tSnB9sm91ubrJbt21njcFZZapeJdfjGTdofbU+OusDRQiQQsrXZXVYq26FOOZ3s0t4qqmppdAtAdiCxbuHwi4WuzvvVA63ZbijIA9ULKKtzadR0uf5d0slS1Zpeom46wqqXKiLXLqtyVgs4+vVlWIEcP5uqpxf6DAr/C7fHoFQiKXtBfMz0J/ZMC/dUi7vpO71JVNVexstf2HjqodbH2mnEdvGJk4PTrY41Hz58//yL09RoHsRsBBBBAAAEEEEAAgcIECLQ2p+tfhH+ybcj7ZDnaXH/0mhn3MgJtvP9IvUxKeQvJ2GlNcdbHqjFiqU0TlQmk8mQ4mVKVcEBLa/t6E6qailsG+vQ8Jg8z0qarcch2u6x9ynGy9x0RFxsHtKAS1wY2XU0h2xnqRKuIfI2D2taRQHmZs7wprKj69to/xESblsPNIqF522cKCLRl/rab2hUtYds6Qqtd0aiVLFnWKhm70XO+pUeODse79jodZfUiWM501JY5zZA52ymmVeuBdrGvQQxOnp/WrjV7Ueyq7Ywb+d9Zebx/VlFVsTc3oCzE1XRDq7UsRCIo85O9ncG2Ae1lkQo3a9cNpYzuS7c03l5rSeYzHVkifZ4KqDl7KnnlkGhsU1j0Qip+o7P7RliMs9tSq3xpGVOOLbtyFmt8KuE9pc0Y0En9fcYofMbrOOfTn1T1+hda3XIewg4EEEAAAQQQQAABBAoVINDapIoLtMmwGJB0G5nWGmjj/UfErkCo2BEsa4i1Ps4WaPUbX60DnkZu0Qb6ZB7bfWpSb+P0Jx5HmXPvRTOCi+22QKsMNpoBTOxMXjuwethQVW+eERH6uEi0kYBLBGARkmPtHiNPahecOCtyr6ikrKExQKo/tY3QZlsEK918WfJuX5OY29wSDB7UomCLvAM0pczeDItYe/JQjTYs3Dyi6qFOq6HWyD5zUShlsEnkPTHbViutyS/aIoKZHl8tY6Q5AfVCThrBLNl/0AzMqqoqiemRcG9nsOV4vTbKra19nW6OpqOf0nRD/7Ag0etfTZ2zAmqenrp9Xhurr3A3NLV09kWMSeOW1Gqk69WBNk+xeTpRa1CBfxBoC4TiMAQQQAABBBBAAIFCBAi0NqWipxzL+aUV+3rjchxSiy7xvoYKcyKrrfxsT+LXrPeXWmOP9fH6A602YqldWGbXyrNGwLVs1LNxIh38ZFVDJ1enLNXIrk03lrX5xpVnJsR4ZrRF5Mn0FxfNXqzfoEArSxbzjWs86Z+2qKou9h/RZiDvrPE0HG/yGbN29anURmAz419EVROfaqO1FVXWomqO9ucOtFkA9ULM8o2RWLGK8uR5LVdXuMVNyIfEQLE0yejNjHyoKjeOr6aWgTZLBdS8PSXvptbmZosyd7wjxlELCrR5is2osHxa/HLcTDnO9o8A2xBAAAEEEEAAAQTWKUCgtcGtZ1Go/9fe/by2ceZxHN8/JQF7Ug2CAAALKklEQVSDD4IcDD3k0FtgDwIdArkEfCj4YHahJYcSDEsxhOCL8WFDF2JyWRLY0MBiDKUbyLqExMauVUX4Z1aRIlsKsjKSjSxb9igeZZbneWYUjT2ypalHY0vvEGprpHmeeV6Pcvj0eeY79Uw7J59DO9dWmhU5UO5Klfegmqa19KeWFmMT4g7PyON38hozT2QhHxmiHOHEGS3UWw0rtH3D02qZWJ/5XsQb68Et9rgdK7Tm6gO1T1juGjYN++WG/Wn7p7yY0PhDsVRrJ2S1nBuytiLX98S+0u30Za1G6q9GxbjaWKFVLUcm6yWjKtazYdXFh9UmZ1NtOZa3oVp01r5ia0lZLRGvyuXl79WGadM0dPupv81WaN0AVSM3H6t9y1b7Nx9n7Nx494VceLWCrtsKrZX/7UFZ1K730LpdwCkzVdnVkrF34iZqU8/K/dUyUTu+Mypd24G84S17xk9+Ac4p0FIUyv43xE8EEEAAAQQQQACBcxAg0DoQPT62R2XaUKj/aqg/1PrarOpanx0VpYP6b42MT4zeluuNVq0dq/xS37XB0fG/DX4VEh+70n6gvRKKfHdvYnzkloiRVr2oL6O2dueKLbiiyrH2b1EwqT98Z3J6enJYFEPq//a5y75pdROpWH6Ud8nK9vTYhNjsOjB4/9n003uyuxtq8VbdLyqavX/vTngg1GagFTlfXtXIP1/MzTwZEUugX4/9rltbi/uHfpxdjM08GVFlsUSYN1YfyNpFN4bHhOp12aMKtEZS3rw6cPvv07Ovph8MilJScoG6WaAN9Q+cBNSmRDGqUPjbR1PTj4ZFX1aFJLXR+sboT78vxqYmJILrCq1prvxD1pq68Zf7ExM/DF4X3xz3olB9rjPYbKZ2f74jrG5NTL2am302KkzkEnpDajVNFci/HvpBVjlufKtZs6ftG//ybTr7Nx7bc7YRn0AAAQQQQAABBBBoWYBA66DKfsitJ1KOQy2+sGrbtptmZeuV5NORiMh4InBe/+ahKnEk3tJ+HbspIm7ftcFHKy/GvAXa+/+Si8Yyak4uOes7iVW81UkZ6q5cHRJlpUx95eGQqlEsAtvIT+9EBeCTf1T1IHuh1X4/8/OoumB5zT/O2iWD9P89/k6W/O0Pj/wilrLtE49txLXbET+db2WmG1q+OTqlFo2N7NRfRSKVl/r8aeMG6ezzu2H5vwBCkfHFX1VxJrElWNwaHJsckvWNLfCYfDprs0A79FStuh8DrKw2NBK5+0w8OUn8qcTGVb9XB24/nJ78psmWY1mx6Rdr3kPhidiMrFzdcAfvl6pUTWaw2Uw1Hu+7Zls1plbT1Opdj8ecu5GbfQHOaYV2PZHKfsgpKv6LAAIIIIAAAggggMAfFCDQOgArlYPX81HHodZfiKLH7Zc1rrdv6Ls7J9Jm/V0vvzgSml45tXFD1xsrDIuLsbb1NutZ3V5r72d2fErfsbfxOg6fwwvR8smAXXE7qHo7ZdT67pljbLxid0DRiAusvtuywDH5xi6ddarcL6D5TJ09C6d03bxZxwW2/+L1fLRSOWj/PM5AAAEEEEAAAQQQQMBFgEB7HCUaXy4Ut48fvZSvHYH2HEew+5/RcEQ+pVbu+z3HlmnKKeDXDDp76dyrQnE7Gl/uXH/0hAACCCCAAAIIINDtAgTa4zOcy2vxpbXjRy/la7GtNByJiGrA5/lnd+Ze5Kvrfw4Pj82cKBZ1nv3QltwY7MMMBiYbX1rL5e1t6IFdBR0jgAACCCCAAAIIdI8AgdZlLhei8W5ZpHUZHYcQCESgUNxeiMYD6ZpOEUAAAQQQQAABBLpVgEDrMrNaYXt+8c1nl3c4hAACXgQ+m+b84hut0B2b+b0IcA4CCCCAAAIIIICAHwIEWnfVt4mUx3LH7u1xFIGeFlhPpN56qx/e02wMHgEEEEAAAQQQQOAMAQJtU6BofDm9mW36Nm8ggEBrAunNLLWgWqPiUwgggAACCCCAAALtCRBom3rp1epCNE6mbQrEGwi0IJDezC5E43q12sJn+QgCCCCAAAIIIIAAAu0JEGhP89Kr1Wh8eT2R4n7a05h4DwE3gc+muZ5IRePLpFk3Ho4hgAACCCCAAAIInIMAgfZsxLeJ1PziG+oeny3FJxCwBQpFUVmN+2ZtD34igAACCCCAAAII+CJAoG2JVSuIJ47El9aItS158aEeFigUt+NLawvRODWNe/hbwNARQAABBBBAAIEOCRBo24DO5bVofPn1fHQ9kdrKa3t7+0dHR+xGbkOQj3adwGfTPDo62tvb38pr64nU6/loNL6cy2tdN1AGhAACCCCAAAIIIHARBQi0bc9KpXKQ/ZBbWUssROMvZ3/778s5/iLQywIvZ39biMZX1hLZD7lK5aDtf1GcgAACCCCAAAIIIICAVwECrVc5zkMAAQQQQAABBBBAAAEEEAhUgEAbKD+dI4AAAggggAACCCCAAAIIeBUg0HqV4zwEEEAAAQQQQAABBBBAAIFABQi0gfLTOQIIIIAAAggggAACCCCAgFcBAq1XOc5DAAEEEEAAAQQQQAABBBAIVIBAGyg/nSOAAAIIIIAAAggggAACCHgVINB6leM8BBBAAAEEEEAAAQQQQACBQAUItIHy0zkCCCCAAAIIIIAAAggggIBXAQKtVznOQwABBBBAAAEEEEAAAQQQCFSAQBsoP50jgAACCCCAAAIIIIAAAgh4FeiGQJtKZwyj5lWA8xBAAAEEEEAAAQQQQAABBC6fgGHUUumMT9f9J5/aPdnsZjZ3qOsnj3MEAQQQQAABBBBAAAEEEECgWwUOdX0zm/NpdJ0LtHmtWCqVfRoGzSKAAAIIIIAAAggggAACCFxAgVKpnNeKPl1Y5wJtubyf29J8GgbNIoAAAggggAACCCCAAAIIXECB3JZWLu/7dGGdC7S1Wi2R3OA2Wp8mkmYRQAABBBBAAAEEEEAAgYsmYBgiBtZqflVT6lygNU0zrxW3d0oXjZjrQQABBBBAAAEEEEAAAQQQ8ENge6fk335j0zQ7Gmir1U/J99Q69uN7QpsIIIAAAggggAACCCCAwMUSMIxa8n2mWv3k32V1NNCaplko7uQ/+nVDsH9MtIwAAggggAACCCCAAAIIINCWQP5jsVDcaeuUdj/c6UBrmuZmNke543bnic8jgAACCCCAAAIIIIAAApdIoFQq+/e0nrpDAIG2Wv2USmfKe37VuaqPjV8QQAABBBBAAAEEEEAAAQQ6L1De20+l/d1srAYVQKA1TfPgUE+lM6zTdv6LRY8IIIAAAggggAACCCCAgK8CpVI5lc4cHOq+9qIaDybQmqZZrX7azObyH4s8yKcD00wXCCCAAAIIIIAAAggggIDfAoZRy38sbmZzvhaCahxFYIFWXUShuJN8n9neKRFrG2eF3xFAAAEEEEAAAQQQQACBSyRgGLXtnVLyfcbvKlDHTAIOtGqpNq8VE8mN3JZWKpUPdZ1we2ySeIkAAggggAACCCCAAAIIXDQBw6gd6nqpVM5taYnkRl4rdmxhtk4RfKBVl1Kr1crl/bwmlqdT6UwiucFfBBBAAAEEEEAAAQQQQACBCyuQSmfEbaRasVzer9Vq9ZDZyV8uSqDt5JjpCwEEEEAAAQQQQAABBBBAoAsECLRdMIkMAQEEEEAAAQQQQAABBBDoRQECbS/OOmNGAAEEEEAAAQQQQAABBLpAgEDbBZPIEBBAAAEEEEAAAQQQQACBXhQg0PbirDNmBBBAAAEEEEAAAQQQQKALBAi0XTCJDAEBBBBAAAEEEEAAAQQQ6EUBAm0vzjpjRgABBBBAAAEEEEAAAQS6QOD/VfvJEupKAGwAAAAASUVORK5CYII=)"
   ]
  }
 ],
 "metadata": {
  "accelerator": "GPU",
  "colab": {
   "gpuType": "T4",
   "provenance": []
  },
  "kernelspec": {
   "display_name": "Python 3",
   "name": "python3"
  },
  "language_info": {
   "name": "python"
  }
 },
 "nbformat": 4,
 "nbformat_minor": 0
}
